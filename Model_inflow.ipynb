{
 "cells": [
  {
   "cell_type": "markdown",
   "metadata": {},
   "source": [
    "## Check data and build input reading pipeline"
   ]
  },
  {
   "cell_type": "code",
   "execution_count": 1,
   "metadata": {},
   "outputs": [
    {
     "name": "stderr",
     "output_type": "stream",
     "text": [
      "/home/seanyu/.conda/envs/tf18_keras/lib/python3.6/importlib/_bootstrap.py:219: RuntimeWarning: numpy.dtype size changed, may indicate binary incompatibility. Expected 96, got 88\n",
      "  return f(*args, **kwds)\n",
      "/home/seanyu/.conda/envs/tf18_keras/lib/python3.6/importlib/_bootstrap.py:219: RuntimeWarning: numpy.dtype size changed, may indicate binary incompatibility. Expected 96, got 88\n",
      "  return f(*args, **kwds)\n",
      "/home/seanyu/.conda/envs/tf18_keras/lib/python3.6/importlib/_bootstrap.py:219: RuntimeWarning: numpy.dtype size changed, may indicate binary incompatibility. Expected 96, got 88\n",
      "  return f(*args, **kwds)\n",
      "/home/seanyu/.conda/envs/tf18_keras/lib/python3.6/importlib/_bootstrap.py:219: RuntimeWarning: numpy.dtype size changed, may indicate binary incompatibility. Expected 96, got 88\n",
      "  return f(*args, **kwds)\n",
      "/home/seanyu/.conda/envs/tf18_keras/lib/python3.6/importlib/_bootstrap.py:219: RuntimeWarning: numpy.dtype size changed, may indicate binary incompatibility. Expected 96, got 88\n",
      "  return f(*args, **kwds)\n",
      "/home/seanyu/.conda/envs/tf18_keras/lib/python3.6/importlib/_bootstrap.py:219: RuntimeWarning: numpy.dtype size changed, may indicate binary incompatibility. Expected 96, got 88\n",
      "  return f(*args, **kwds)\n"
     ]
    },
    {
     "name": "stdout",
     "output_type": "stream",
     "text": [
      "Namespace(full_random=0, gpu_id=None, message=None, split_id=None, with_transfer=1)\n"
     ]
    },
    {
     "name": "stderr",
     "output_type": "stream",
     "text": [
      "/home/seanyu/.conda/envs/tf18_keras/lib/python3.6/importlib/_bootstrap.py:219: RuntimeWarning: numpy.dtype size changed, may indicate binary incompatibility. Expected 96, got 88\n",
      "  return f(*args, **kwds)\n",
      "/home/seanyu/.conda/envs/tf18_keras/lib/python3.6/site-packages/h5py/__init__.py:36: FutureWarning: Conversion of the second argument of issubdtype from `float` to `np.floating` is deprecated. In future, it will be treated as `np.float64 == np.dtype(float).type`.\n",
      "  from ._conv import register_converters as _register_converters\n",
      "/home/seanyu/.conda/envs/tf18_keras/lib/python3.6/importlib/_bootstrap.py:219: RuntimeWarning: numpy.dtype size changed, may indicate binary incompatibility. Expected 96, got 88\n",
      "  return f(*args, **kwds)\n"
     ]
    },
    {
     "name": "stdout",
     "output_type": "stream",
     "text": [
      "WARNING:tensorflow:From /home/seanyu/.conda/envs/tf18_keras/lib/python3.6/site-packages/tensorflow/contrib/learn/python/learn/datasets/base.py:198: retry (from tensorflow.contrib.learn.python.learn.datasets.base) is deprecated and will be removed in a future version.\n",
      "Instructions for updating:\n",
      "Use the retry module or similar alternatives.\n"
     ]
    }
   ],
   "source": [
    "from __future__ import print_function\n",
    "\n",
    "import os\n",
    "import sys\n",
    "\n",
    "import numpy as np\n",
    "import pandas as pd\n",
    "import time\n",
    "import glob\n",
    "import re\n",
    "import random\n",
    "import datetime\n",
    "\n",
    "from sklearn.model_selection import train_test_split\n",
    "from PIL import Image\n",
    "import cv2\n",
    "\n",
    "import argparse\n",
    "parser = argparse.ArgumentParser()\n",
    "parser.add_argument('--gpu_id', type = str)\n",
    "parser.add_argument('--split_id', type = str, help = 'split_id, from 0 to 7')\n",
    "parser.add_argument('--full_random', default = 0)\n",
    "parser.add_argument('--with_transfer', default = 1)\n",
    "parser.add_argument('--message', type = str, help = \"Recording experiment infomation\")\n",
    "FLAGS = parser.parse_args([])\n",
    "print(FLAGS)\n",
    "\n",
    "FLAGS.gpu_id = \"1\"\n",
    "FLAGS.full_random = 1\n",
    "FLAGS.with_transfer = 0\n",
    "FLAGS.message = \"run it\"\n",
    "\n",
    "os.environ[\"CUDA_DEVICE_ORDER\"]=\"PCI_BUS_ID\"\n",
    "os.environ['CUDA_VISIBLE_DEVICES'] = str(FLAGS.gpu_id)\n",
    "import tensorflow as tf\n",
    "\n",
    "#from config import Basic_Setup, Hparams, Augmentation_Setup\n",
    "from DataGenerator import Create_Data_Generator\n",
    "\n",
    "sys.path.append(\"/home/seanyu/Common_tools/\")\n",
    "from model import create_model\n",
    "from trainer import model_trainer\n",
    "from CONFIG_MODEL import PRETRAIN_MODEL_SETUP\n",
    "from Recording import Experiment_Recoding\n",
    "from TF_callbacks import (\n",
    "    EarlyStopping, \n",
    "    Model_checkpoint, \n",
    "    ReduceLROnPlateau, \n",
    "    Model_Timer,\n",
    "    Run_collected_functions\n",
    ")"
   ]
  },
  {
   "cell_type": "code",
   "execution_count": 2,
   "metadata": {},
   "outputs": [
    {
     "name": "stderr",
     "output_type": "stream",
     "text": [
      "/home/seanyu/.conda/envs/tf18_keras/lib/python3.6/importlib/_bootstrap.py:219: RuntimeWarning: numpy.dtype size changed, may indicate binary incompatibility. Expected 96, got 88\n",
      "  return f(*args, **kwds)\n"
     ]
    }
   ],
   "source": [
    "class Basic_Setup(object):\n",
    "    data_dir = \"/data/seanyu/UPMC_pathology/Pathology_Analysis/data/\" # path to data\n",
    "    label_dir = \"/data/seanyu/UPMC_pathology/Pathology_Analysis/splits/\" # path to label\n",
    "    result_dir = \"/data/seanyu/UPMC_pathology/result/resnet50_RandomSplit_FromScratch\" # path to store results\n",
    "    model_saving_name = \"model\" # model name prefix\n",
    "    do_augmentation = True\n",
    "    \n",
    "    n_threads = 8\n",
    "    dq_size = 50\n",
    "    \n",
    "# ======================= #\n",
    "try:\n",
    "    import imgaug as ia\n",
    "    from imgaug import augmenters as iaa\n",
    "except:\n",
    "    print(\"Import Error, Please make sure you have imgaug\")\n",
    "        \n",
    "try:\n",
    "    sys.path.append(\"Common_tools/\")\n",
    "    from customized_imgaug_func import keypoint_func, img_channelswap\n",
    "except:\n",
    "    print(\"Warning, if you used customized imgaug function\")\n",
    "\n",
    "class Augmentation_Setup(object):  \n",
    "    sometimes = lambda aug: iaa.Sometimes(0.5, aug)\n",
    "    lesstimes = lambda aug: iaa.Sometimes(0.2, aug)\n",
    "    \n",
    "    augmentation = iaa.Sequential([\n",
    "        iaa.Fliplr(0.5, name=\"FlipLR\"),\n",
    "        iaa.Flipud(0.5, name=\"FlipUD\"),\n",
    "        iaa.ContrastNormalization((0.8, 1.2), name = \"Contrast\"),\n",
    "        iaa.Add((-15, 15), per_channel = 0.5),\n",
    "   #     iaa.OneOf([iaa.Multiply((0.8, 1.2), per_channel = 0.5, name = \"Multiply\"),\n",
    "   #                iaa.AddToHueAndSaturation((-15,15),name = \"Hue\"),\n",
    "   #               ]),\n",
    "        sometimes(iaa.GaussianBlur((0, 1.5), name=\"GaussianBlur\")),\n",
    "        iaa.OneOf([iaa.Affine(rotate = 90),\n",
    "                   iaa.Affine(rotate = 180),\n",
    "                   iaa.Affine(rotate = 270)]),\n",
    "        sometimes(iaa.Affine(\n",
    "                    scale = (0.6,1.2),\n",
    "                    #translate_percent = (-0.2, 0.2),\n",
    "                    rotate = (-15, 15),\n",
    "                    mode = 'wrap'\n",
    "                    ))\n",
    "    ])\n",
    "    \n",
    "# ============================== #\n",
    "import tensorflow as tf\n",
    "class Hparams(object):\n",
    "    \"\"\"\n",
    "    Model related setup\n",
    "    \"\"\"\n",
    "    input_size = (256, 256, 3)\n",
    "    batch_size = 32\n",
    "    epochs = 200\n",
    "    n_batch = 300\n",
    "    n_class = 2\n",
    "    class_weight = None # leave None if don't use it\n",
    "    optimizer = 'adam'\n",
    "    pretrain_model = \"resnet_50\"\n",
    "    \n",
    "    learning_rate = 0.00017\n",
    "    reduce_lr_options = {'lr':learning_rate, 'factor':0.5, 'patience':4}\n",
    "    earlystop_options = {'min_delta': 1e-4, 'patience':9}"
   ]
  },
  {
   "cell_type": "code",
   "execution_count": 3,
   "metadata": {},
   "outputs": [
    {
     "name": "stdout",
     "output_type": "stream",
     "text": [
      "/data/seanyu/UPMC_pathology/result/resnet50_RandomSplit_FromScratch has already exist, overwrite it\n",
      "Write recording file to /data/seanyu/UPMC_pathology/result/resnet50_RandomSplit_FromScratch/msg.txt\n",
      "copying /home/seanyu/project/UPMC_mitosis/config.py to /data/seanyu/UPMC_pathology/result/resnet50_RandomSplit_FromScratch/config.py\n",
      "copying /home/seanyu/project/UPMC_mitosis/model.py to /data/seanyu/UPMC_pathology/result/resnet50_RandomSplit_FromScratch/model.py\n",
      "(1095, 256, 256, 3)\n",
      "== INITIALIZE PARAMETERS ==\n"
     ]
    },
    {
     "name": "stderr",
     "output_type": "stream",
     "text": [
      "\r",
      "Training batch:   0%|          | 0/300 [00:00<?, ?batch/s]"
     ]
    },
    {
     "name": "stdout",
     "output_type": "stream",
     "text": [
      "Start time: Tue Oct  2 12:16:46 2018\n"
     ]
    },
    {
     "name": "stderr",
     "output_type": "stream",
     "text": [
      "Batch: 300, Training loss/acc: 0.46/0.78: 100%|██████████| 300/300 [01:23<00:00,  3.61batch/s]\n"
     ]
    },
    {
     "name": "stdout",
     "output_type": "stream",
     "text": [
      "Epoch: 1/200\n",
      "train loss: 0.46340322494506836 | val loss: 0.25835558772087097\n",
      "== Validation loss has an improvement, save model ==\n"
     ]
    },
    {
     "name": "stderr",
     "output_type": "stream",
     "text": [
      "\r",
      "Training batch:   0%|          | 0/300 [00:00<?, ?batch/s]"
     ]
    },
    {
     "name": "stdout",
     "output_type": "stream",
     "text": [
      "Model saved in path: /data/seanyu/UPMC_pathology/result/resnet50_RandomSplit_FromScratch/model.ckpt\n"
     ]
    },
    {
     "name": "stderr",
     "output_type": "stream",
     "text": [
      "Batch: 300, Training loss/acc: 0.39/0.83: 100%|██████████| 300/300 [01:11<00:00,  4.17batch/s]\n",
      "Training batch:   0%|          | 0/300 [00:00<?, ?batch/s]"
     ]
    },
    {
     "name": "stdout",
     "output_type": "stream",
     "text": [
      "Epoch: 2/200\n",
      "train loss: 0.3852893114089966 | val loss: 0.29833465814590454\n"
     ]
    },
    {
     "name": "stderr",
     "output_type": "stream",
     "text": [
      "Batch: 300, Training loss/acc: 0.33/0.86: 100%|██████████| 300/300 [01:12<00:00,  4.16batch/s]\n",
      "Training batch:   0%|          | 0/300 [00:00<?, ?batch/s]"
     ]
    },
    {
     "name": "stdout",
     "output_type": "stream",
     "text": [
      "Epoch: 3/200\n",
      "train loss: 0.3273095190525055 | val loss: 0.41679713129997253\n"
     ]
    },
    {
     "name": "stderr",
     "output_type": "stream",
     "text": [
      "Batch: 300, Training loss/acc: 0.30/0.87: 100%|██████████| 300/300 [01:12<00:00,  4.16batch/s]\n",
      "Training batch:   0%|          | 0/300 [00:00<?, ?batch/s]"
     ]
    },
    {
     "name": "stdout",
     "output_type": "stream",
     "text": [
      "Epoch: 4/200\n",
      "train loss: 0.2999616861343384 | val loss: 0.29430636763572693\n"
     ]
    },
    {
     "name": "stderr",
     "output_type": "stream",
     "text": [
      "Batch: 300, Training loss/acc: 0.28/0.89: 100%|██████████| 300/300 [01:13<00:00,  4.10batch/s]\n",
      "Training batch:   0%|          | 0/300 [00:00<?, ?batch/s]"
     ]
    },
    {
     "name": "stdout",
     "output_type": "stream",
     "text": [
      "Epoch: 5/200\n",
      "train loss: 0.28029051423072815 | val loss: 0.4630087614059448\n"
     ]
    },
    {
     "name": "stderr",
     "output_type": "stream",
     "text": [
      "Batch: 300, Training loss/acc: 0.25/0.90: 100%|██████████| 300/300 [01:12<00:00,  4.16batch/s]\n"
     ]
    },
    {
     "name": "stdout",
     "output_type": "stream",
     "text": [
      "Epoch: 6/200\n",
      "train loss: 0.24712041020393372 | val loss: 0.20175272226333618\n",
      "== Validation loss has an improvement, save model ==\n"
     ]
    },
    {
     "name": "stderr",
     "output_type": "stream",
     "text": [
      "\r",
      "Training batch:   0%|          | 0/300 [00:00<?, ?batch/s]"
     ]
    },
    {
     "name": "stdout",
     "output_type": "stream",
     "text": [
      "Model saved in path: /data/seanyu/UPMC_pathology/result/resnet50_RandomSplit_FromScratch/model.ckpt\n"
     ]
    },
    {
     "name": "stderr",
     "output_type": "stream",
     "text": [
      "Batch: 300, Training loss/acc: 0.23/0.91: 100%|██████████| 300/300 [01:12<00:00,  4.16batch/s]\n",
      "Training batch:   0%|          | 0/300 [00:00<?, ?batch/s]"
     ]
    },
    {
     "name": "stdout",
     "output_type": "stream",
     "text": [
      "Epoch: 7/200\n",
      "train loss: 0.22709418833255768 | val loss: 0.2541666626930237\n"
     ]
    },
    {
     "name": "stderr",
     "output_type": "stream",
     "text": [
      "Batch: 300, Training loss/acc: 0.22/0.91: 100%|██████████| 300/300 [01:12<00:00,  4.16batch/s]\n",
      "Training batch:   0%|          | 0/300 [00:00<?, ?batch/s]"
     ]
    },
    {
     "name": "stdout",
     "output_type": "stream",
     "text": [
      "Epoch: 8/200\n",
      "train loss: 0.21952104568481445 | val loss: 0.290902704000473\n"
     ]
    },
    {
     "name": "stderr",
     "output_type": "stream",
     "text": [
      "Batch: 300, Training loss/acc: 0.21/0.92: 100%|██████████| 300/300 [01:12<00:00,  4.15batch/s]\n",
      "Training batch:   0%|          | 0/300 [00:00<?, ?batch/s]"
     ]
    },
    {
     "name": "stdout",
     "output_type": "stream",
     "text": [
      "Epoch: 9/200\n",
      "train loss: 0.2069443017244339 | val loss: 0.2288404256105423\n"
     ]
    },
    {
     "name": "stderr",
     "output_type": "stream",
     "text": [
      "Batch: 300, Training loss/acc: 0.20/0.92: 100%|██████████| 300/300 [01:12<00:00,  4.15batch/s]\n"
     ]
    },
    {
     "name": "stdout",
     "output_type": "stream",
     "text": [
      "Epoch: 10/200\n",
      "train loss: 0.19894646108150482 | val loss: 0.1969100534915924\n",
      "== Validation loss has an improvement, save model ==\n"
     ]
    },
    {
     "name": "stderr",
     "output_type": "stream",
     "text": [
      "\r",
      "Training batch:   0%|          | 0/300 [00:00<?, ?batch/s]"
     ]
    },
    {
     "name": "stdout",
     "output_type": "stream",
     "text": [
      "Model saved in path: /data/seanyu/UPMC_pathology/result/resnet50_RandomSplit_FromScratch/model.ckpt\n"
     ]
    },
    {
     "name": "stderr",
     "output_type": "stream",
     "text": [
      "Batch: 300, Training loss/acc: 0.18/0.93: 100%|██████████| 300/300 [01:12<00:00,  4.16batch/s]\n"
     ]
    },
    {
     "name": "stdout",
     "output_type": "stream",
     "text": [
      "Epoch: 11/200\n",
      "train loss: 0.18357442319393158 | val loss: 0.18227744102478027\n",
      "== Validation loss has an improvement, save model ==\n"
     ]
    },
    {
     "name": "stderr",
     "output_type": "stream",
     "text": [
      "\r",
      "Training batch:   0%|          | 0/300 [00:00<?, ?batch/s]"
     ]
    },
    {
     "name": "stdout",
     "output_type": "stream",
     "text": [
      "Model saved in path: /data/seanyu/UPMC_pathology/result/resnet50_RandomSplit_FromScratch/model.ckpt\n"
     ]
    },
    {
     "name": "stderr",
     "output_type": "stream",
     "text": [
      "Batch: 300, Training loss/acc: 0.18/0.93: 100%|██████████| 300/300 [01:12<00:00,  4.15batch/s]\n"
     ]
    },
    {
     "name": "stdout",
     "output_type": "stream",
     "text": [
      "Epoch: 12/200\n",
      "train loss: 0.17535631358623505 | val loss: 0.176399365067482\n",
      "== Validation loss has an improvement, save model ==\n"
     ]
    },
    {
     "name": "stderr",
     "output_type": "stream",
     "text": [
      "\r",
      "Training batch:   0%|          | 0/300 [00:00<?, ?batch/s]"
     ]
    },
    {
     "name": "stdout",
     "output_type": "stream",
     "text": [
      "Model saved in path: /data/seanyu/UPMC_pathology/result/resnet50_RandomSplit_FromScratch/model.ckpt\n"
     ]
    },
    {
     "name": "stderr",
     "output_type": "stream",
     "text": [
      "Batch: 300, Training loss/acc: 0.16/0.94: 100%|██████████| 300/300 [01:12<00:00,  4.14batch/s]\n"
     ]
    },
    {
     "name": "stdout",
     "output_type": "stream",
     "text": [
      "Epoch: 13/200\n",
      "train loss: 0.16290901601314545 | val loss: 0.11793983727693558\n",
      "== Validation loss has an improvement, save model ==\n"
     ]
    },
    {
     "name": "stderr",
     "output_type": "stream",
     "text": [
      "\r",
      "Training batch:   0%|          | 0/300 [00:00<?, ?batch/s]"
     ]
    },
    {
     "name": "stdout",
     "output_type": "stream",
     "text": [
      "Model saved in path: /data/seanyu/UPMC_pathology/result/resnet50_RandomSplit_FromScratch/model.ckpt\n"
     ]
    },
    {
     "name": "stderr",
     "output_type": "stream",
     "text": [
      "Batch: 300, Training loss/acc: 0.16/0.94: 100%|██████████| 300/300 [01:12<00:00,  4.14batch/s]\n",
      "Training batch:   0%|          | 0/300 [00:00<?, ?batch/s]"
     ]
    },
    {
     "name": "stdout",
     "output_type": "stream",
     "text": [
      "Epoch: 14/200\n",
      "train loss: 0.16170160472393036 | val loss: 0.17926423251628876\n"
     ]
    },
    {
     "name": "stderr",
     "output_type": "stream",
     "text": [
      "Batch: 300, Training loss/acc: 0.13/0.95: 100%|██████████| 300/300 [01:13<00:00,  4.08batch/s]\n",
      "Training batch:   0%|          | 0/300 [00:00<?, ?batch/s]"
     ]
    },
    {
     "name": "stdout",
     "output_type": "stream",
     "text": [
      "Epoch: 15/200\n",
      "train loss: 0.12941902875900269 | val loss: 0.2142973244190216\n"
     ]
    },
    {
     "name": "stderr",
     "output_type": "stream",
     "text": [
      "Batch: 300, Training loss/acc: 0.13/0.95: 100%|██████████| 300/300 [01:13<00:00,  4.11batch/s]\n",
      "Training batch:   0%|          | 0/300 [00:00<?, ?batch/s]"
     ]
    },
    {
     "name": "stdout",
     "output_type": "stream",
     "text": [
      "Epoch: 16/200\n",
      "train loss: 0.1324523687362671 | val loss: 0.22591060400009155\n"
     ]
    },
    {
     "name": "stderr",
     "output_type": "stream",
     "text": [
      "Batch: 300, Training loss/acc: 0.12/0.95: 100%|██████████| 300/300 [01:12<00:00,  4.14batch/s]\n"
     ]
    },
    {
     "name": "stdout",
     "output_type": "stream",
     "text": [
      "Epoch: 17/200\n",
      "train loss: 0.12198441475629807 | val loss: 0.10665784031152725\n",
      "== Validation loss has an improvement, save model ==\n"
     ]
    },
    {
     "name": "stderr",
     "output_type": "stream",
     "text": [
      "\r",
      "Training batch:   0%|          | 0/300 [00:00<?, ?batch/s]"
     ]
    },
    {
     "name": "stdout",
     "output_type": "stream",
     "text": [
      "Model saved in path: /data/seanyu/UPMC_pathology/result/resnet50_RandomSplit_FromScratch/model.ckpt\n"
     ]
    },
    {
     "name": "stderr",
     "output_type": "stream",
     "text": [
      "Batch: 300, Training loss/acc: 0.12/0.95: 100%|██████████| 300/300 [01:12<00:00,  4.14batch/s]\n",
      "Training batch:   0%|          | 0/300 [00:00<?, ?batch/s]"
     ]
    },
    {
     "name": "stdout",
     "output_type": "stream",
     "text": [
      "Epoch: 18/200\n",
      "train loss: 0.12434320151805878 | val loss: 0.12259935587644577\n"
     ]
    },
    {
     "name": "stderr",
     "output_type": "stream",
     "text": [
      "Batch: 300, Training loss/acc: 0.11/0.96: 100%|██████████| 300/300 [01:12<00:00,  4.14batch/s]\n",
      "Training batch:   0%|          | 0/300 [00:00<?, ?batch/s]"
     ]
    },
    {
     "name": "stdout",
     "output_type": "stream",
     "text": [
      "Epoch: 19/200\n",
      "train loss: 0.11146054416894913 | val loss: 0.11102978885173798\n"
     ]
    },
    {
     "name": "stderr",
     "output_type": "stream",
     "text": [
      "Batch: 300, Training loss/acc: 0.10/0.96: 100%|██████████| 300/300 [01:12<00:00,  4.13batch/s]\n",
      "Training batch:   0%|          | 0/300 [00:00<?, ?batch/s]"
     ]
    },
    {
     "name": "stdout",
     "output_type": "stream",
     "text": [
      "Epoch: 20/200\n",
      "train loss: 0.10115430504083633 | val loss: 0.14533966779708862\n"
     ]
    },
    {
     "name": "stderr",
     "output_type": "stream",
     "text": [
      "Batch: 300, Training loss/acc: 0.09/0.97: 100%|██████████| 300/300 [01:12<00:00,  4.13batch/s]\n"
     ]
    },
    {
     "name": "stdout",
     "output_type": "stream",
     "text": [
      "Epoch: 21/200\n",
      "train loss: 0.09376974403858185 | val loss: 0.09604357928037643\n",
      "== Validation loss has an improvement, save model ==\n"
     ]
    },
    {
     "name": "stderr",
     "output_type": "stream",
     "text": [
      "\r",
      "Training batch:   0%|          | 0/300 [00:00<?, ?batch/s]"
     ]
    },
    {
     "name": "stdout",
     "output_type": "stream",
     "text": [
      "Model saved in path: /data/seanyu/UPMC_pathology/result/resnet50_RandomSplit_FromScratch/model.ckpt\n"
     ]
    },
    {
     "name": "stderr",
     "output_type": "stream",
     "text": [
      "Batch: 300, Training loss/acc: 0.09/0.97: 100%|██████████| 300/300 [01:12<00:00,  4.14batch/s]\n",
      "Training batch:   0%|          | 0/300 [00:00<?, ?batch/s]"
     ]
    },
    {
     "name": "stdout",
     "output_type": "stream",
     "text": [
      "Epoch: 22/200\n",
      "train loss: 0.08760961890220642 | val loss: 0.09830999374389648\n"
     ]
    },
    {
     "name": "stderr",
     "output_type": "stream",
     "text": [
      "Batch: 300, Training loss/acc: 0.09/0.97: 100%|██████████| 300/300 [01:12<00:00,  4.14batch/s]\n"
     ]
    },
    {
     "name": "stdout",
     "output_type": "stream",
     "text": [
      "Epoch: 23/200\n",
      "train loss: 0.09445139765739441 | val loss: 0.09016866981983185\n",
      "== Validation loss has an improvement, save model ==\n"
     ]
    },
    {
     "name": "stderr",
     "output_type": "stream",
     "text": [
      "\r",
      "Training batch:   0%|          | 0/300 [00:00<?, ?batch/s]"
     ]
    },
    {
     "name": "stdout",
     "output_type": "stream",
     "text": [
      "Model saved in path: /data/seanyu/UPMC_pathology/result/resnet50_RandomSplit_FromScratch/model.ckpt\n"
     ]
    },
    {
     "name": "stderr",
     "output_type": "stream",
     "text": [
      "Batch: 300, Training loss/acc: 0.09/0.97: 100%|██████████| 300/300 [01:13<00:00,  4.07batch/s]\n",
      "Training batch:   0%|          | 0/300 [00:00<?, ?batch/s]"
     ]
    },
    {
     "name": "stdout",
     "output_type": "stream",
     "text": [
      "Epoch: 24/200\n",
      "train loss: 0.08538716286420822 | val loss: 0.1052117720246315\n"
     ]
    },
    {
     "name": "stderr",
     "output_type": "stream",
     "text": [
      "Batch: 300, Training loss/acc: 0.09/0.97: 100%|██████████| 300/300 [01:12<00:00,  4.14batch/s]\n",
      "Training batch:   0%|          | 0/300 [00:00<?, ?batch/s]"
     ]
    },
    {
     "name": "stdout",
     "output_type": "stream",
     "text": [
      "Epoch: 25/200\n",
      "train loss: 0.09167899936437607 | val loss: 0.10420634597539902\n"
     ]
    },
    {
     "name": "stderr",
     "output_type": "stream",
     "text": [
      "Batch: 300, Training loss/acc: 0.09/0.97: 100%|██████████| 300/300 [01:12<00:00,  4.13batch/s]\n",
      "Training batch:   0%|          | 0/300 [00:00<?, ?batch/s]"
     ]
    },
    {
     "name": "stdout",
     "output_type": "stream",
     "text": [
      "Epoch: 26/200\n",
      "train loss: 0.08533144742250443 | val loss: 0.09543124586343765\n"
     ]
    },
    {
     "name": "stderr",
     "output_type": "stream",
     "text": [
      "Batch: 300, Training loss/acc: 0.08/0.97: 100%|██████████| 300/300 [01:12<00:00,  4.14batch/s]\n",
      "Training batch:   0%|          | 0/300 [00:00<?, ?batch/s]"
     ]
    },
    {
     "name": "stdout",
     "output_type": "stream",
     "text": [
      "Epoch: 27/200\n",
      "train loss: 0.08154232800006866 | val loss: 0.10140060633420944\n"
     ]
    },
    {
     "name": "stderr",
     "output_type": "stream",
     "text": [
      "Batch: 300, Training loss/acc: 0.07/0.97: 100%|██████████| 300/300 [01:12<00:00,  4.14batch/s]\n"
     ]
    },
    {
     "name": "stdout",
     "output_type": "stream",
     "text": [
      "Epoch: 28/200\n",
      "train loss: 0.07406725734472275 | val loss: 0.08774840831756592\n",
      "== Validation loss has an improvement, save model ==\n"
     ]
    },
    {
     "name": "stderr",
     "output_type": "stream",
     "text": [
      "\r",
      "Training batch:   0%|          | 0/300 [00:00<?, ?batch/s]"
     ]
    },
    {
     "name": "stdout",
     "output_type": "stream",
     "text": [
      "Model saved in path: /data/seanyu/UPMC_pathology/result/resnet50_RandomSplit_FromScratch/model.ckpt\n"
     ]
    },
    {
     "name": "stderr",
     "output_type": "stream",
     "text": [
      "Batch: 300, Training loss/acc: 0.07/0.97: 100%|██████████| 300/300 [01:12<00:00,  4.14batch/s]\n"
     ]
    },
    {
     "name": "stdout",
     "output_type": "stream",
     "text": [
      "Epoch: 29/200\n",
      "train loss: 0.07047686725854874 | val loss: 0.08135513216257095\n",
      "== Validation loss has an improvement, save model ==\n"
     ]
    },
    {
     "name": "stderr",
     "output_type": "stream",
     "text": [
      "\r",
      "Training batch:   0%|          | 0/300 [00:00<?, ?batch/s]"
     ]
    },
    {
     "name": "stdout",
     "output_type": "stream",
     "text": [
      "Model saved in path: /data/seanyu/UPMC_pathology/result/resnet50_RandomSplit_FromScratch/model.ckpt\n"
     ]
    },
    {
     "name": "stderr",
     "output_type": "stream",
     "text": [
      "Batch: 300, Training loss/acc: 0.07/0.97: 100%|██████████| 300/300 [01:12<00:00,  4.12batch/s]\n",
      "Training batch:   0%|          | 0/300 [00:00<?, ?batch/s]"
     ]
    },
    {
     "name": "stdout",
     "output_type": "stream",
     "text": [
      "Epoch: 30/200\n",
      "train loss: 0.07480376213788986 | val loss: 0.09647186845541\n"
     ]
    },
    {
     "name": "stderr",
     "output_type": "stream",
     "text": [
      "Batch: 300, Training loss/acc: 0.08/0.97: 100%|██████████| 300/300 [01:12<00:00,  4.12batch/s]\n",
      "Training batch:   0%|          | 0/300 [00:00<?, ?batch/s]"
     ]
    },
    {
     "name": "stdout",
     "output_type": "stream",
     "text": [
      "Epoch: 31/200\n",
      "train loss: 0.07645467668771744 | val loss: 0.08829331398010254\n"
     ]
    },
    {
     "name": "stderr",
     "output_type": "stream",
     "text": [
      "Batch: 300, Training loss/acc: 0.08/0.97: 100%|██████████| 300/300 [01:12<00:00,  4.15batch/s]\n",
      "Training batch:   0%|          | 0/300 [00:00<?, ?batch/s]"
     ]
    },
    {
     "name": "stdout",
     "output_type": "stream",
     "text": [
      "Epoch: 32/200\n",
      "train loss: 0.0823998749256134 | val loss: 0.08268874883651733\n"
     ]
    },
    {
     "name": "stderr",
     "output_type": "stream",
     "text": [
      "Batch: 300, Training loss/acc: 0.07/0.98: 100%|██████████| 300/300 [01:12<00:00,  4.15batch/s]\n",
      "Training batch:   0%|          | 0/300 [00:00<?, ?batch/s]"
     ]
    },
    {
     "name": "stdout",
     "output_type": "stream",
     "text": [
      "Epoch: 33/200\n",
      "train loss: 0.07137826085090637 | val loss: 0.08629266172647476\n"
     ]
    },
    {
     "name": "stderr",
     "output_type": "stream",
     "text": [
      "Batch: 300, Training loss/acc: 0.06/0.98: 100%|██████████| 300/300 [01:12<00:00,  4.15batch/s]\n",
      "Training batch:   0%|          | 0/300 [00:00<?, ?batch/s]"
     ]
    },
    {
     "name": "stdout",
     "output_type": "stream",
     "text": [
      "Epoch: 34/200\n",
      "train loss: 0.06367013603448868 | val loss: 0.0923176184296608\n"
     ]
    },
    {
     "name": "stderr",
     "output_type": "stream",
     "text": [
      "Batch: 300, Training loss/acc: 0.07/0.97: 100%|██████████| 300/300 [01:12<00:00,  4.15batch/s]\n",
      "Training batch:   0%|          | 0/300 [00:00<?, ?batch/s]"
     ]
    },
    {
     "name": "stdout",
     "output_type": "stream",
     "text": [
      "Epoch: 35/200\n",
      "train loss: 0.07040424644947052 | val loss: 0.08520960062742233\n"
     ]
    },
    {
     "name": "stderr",
     "output_type": "stream",
     "text": [
      "Batch: 300, Training loss/acc: 0.07/0.98: 100%|██████████| 300/300 [01:12<00:00,  4.15batch/s]\n",
      "Training batch:   0%|          | 0/300 [00:00<?, ?batch/s]"
     ]
    },
    {
     "name": "stdout",
     "output_type": "stream",
     "text": [
      "Epoch: 36/200\n",
      "train loss: 0.06796757876873016 | val loss: 0.08261112123727798\n"
     ]
    },
    {
     "name": "stderr",
     "output_type": "stream",
     "text": [
      "Batch: 300, Training loss/acc: 0.06/0.98: 100%|██████████| 300/300 [01:12<00:00,  4.15batch/s]\n",
      "Training batch:   0%|          | 0/300 [00:00<?, ?batch/s]"
     ]
    },
    {
     "name": "stdout",
     "output_type": "stream",
     "text": [
      "Epoch: 37/200\n",
      "train loss: 0.06313176453113556 | val loss: 0.0828000158071518\n"
     ]
    },
    {
     "name": "stderr",
     "output_type": "stream",
     "text": [
      "Batch: 300, Training loss/acc: 0.06/0.98: 100%|██████████| 300/300 [01:12<00:00,  4.16batch/s]\n"
     ]
    },
    {
     "name": "stdout",
     "output_type": "stream",
     "text": [
      "Epoch: 38/200\n",
      "train loss: 0.06266175955533981 | val loss: 0.08337312936782837\n",
      "Earlystop criteria met\n",
      "Stopping Thread 0\n",
      "Stopping Thread 1\n",
      "Stopping Thread 2\n",
      "Stopping Thread 3\n",
      "Stopping Thread 4\n",
      "Stopping Thread 5\n",
      "Stopping Thread 6\n",
      "Stopping Thread 7\n",
      "Stopping Thread 8\n",
      "End time: Tue Oct  2 13:05:06 2018\n",
      "Total elapse time: 00:48:19\n",
      "Stopping Thread 0\n",
      "Stopping Thread 1\n",
      "Stopping Thread 2\n",
      "Stopping Thread 3\n",
      "Stopping Thread 4\n",
      "Stopping Thread 5\n",
      "Stopping Thread 6\n",
      "Stopping Thread 7\n",
      "Stopping Thread 8\n",
      "End time: Tue Oct  2 13:05:15 2018\n",
      "Total elapse time: 00:48:28\n",
      "INFO:tensorflow:Restoring parameters from /data/seanyu/UPMC_pathology/result/resnet50_RandomSplit_FromScratch/model.ckpt\n"
     ]
    },
    {
     "name": "stderr",
     "output_type": "stream",
     "text": [
      "100%|██████████| 35/35 [00:03<00:00, 10.31it/s]\n",
      "/home/seanyu/.conda/envs/tf18_keras/lib/python3.6/site-packages/ipykernel_launcher.py:82: SettingWithCopyWarning: \n",
      "A value is trying to be set on a copy of a slice from a DataFrame.\n",
      "Try using .loc[row_indexer,col_indexer] = value instead\n",
      "\n",
      "See the caveats in the documentation: http://pandas.pydata.org/pandas-docs/stable/indexing.html#indexing-view-versus-copy\n"
     ]
    },
    {
     "name": "stdout",
     "output_type": "stream",
     "text": [
      "0.9726027397260274\n",
      "/data/seanyu/UPMC_pathology/result/resnet50_RandomSplit_FromScratch has already exist, overwrite it\n",
      "Write recording file to /data/seanyu/UPMC_pathology/result/resnet50_RandomSplit_FromScratch/msg.txt\n",
      "copying /home/seanyu/project/UPMC_mitosis/config.py to /data/seanyu/UPMC_pathology/result/resnet50_RandomSplit_FromScratch/config.py\n",
      "copying /home/seanyu/project/UPMC_mitosis/model.py to /data/seanyu/UPMC_pathology/result/resnet50_RandomSplit_FromScratch/model.py\n",
      "(1095, 256, 256, 3)\n",
      "== INITIALIZE PARAMETERS ==\n"
     ]
    },
    {
     "name": "stderr",
     "output_type": "stream",
     "text": [
      "\r",
      "Training batch:   0%|          | 0/300 [00:00<?, ?batch/s]"
     ]
    },
    {
     "name": "stdout",
     "output_type": "stream",
     "text": [
      "Start time: Tue Oct  2 13:05:37 2018\n"
     ]
    },
    {
     "name": "stderr",
     "output_type": "stream",
     "text": [
      "Batch: 300, Training loss/acc: 0.49/0.77: 100%|██████████| 300/300 [01:20<00:00,  3.71batch/s]\n"
     ]
    },
    {
     "name": "stdout",
     "output_type": "stream",
     "text": [
      "Epoch: 1/200\n",
      "train loss: 0.4854834973812103 | val loss: 0.4726952016353607\n",
      "== Validation loss has an improvement, save model ==\n"
     ]
    },
    {
     "name": "stderr",
     "output_type": "stream",
     "text": [
      "\r",
      "Training batch:   0%|          | 0/300 [00:00<?, ?batch/s]"
     ]
    },
    {
     "name": "stdout",
     "output_type": "stream",
     "text": [
      "Model saved in path: /data/seanyu/UPMC_pathology/result/resnet50_RandomSplit_FromScratch/model.ckpt\n"
     ]
    },
    {
     "name": "stderr",
     "output_type": "stream",
     "text": [
      "Batch: 300, Training loss/acc: 0.38/0.84: 100%|██████████| 300/300 [01:12<00:00,  4.11batch/s]\n",
      "Training batch:   0%|          | 0/300 [00:00<?, ?batch/s]"
     ]
    },
    {
     "name": "stdout",
     "output_type": "stream",
     "text": [
      "Epoch: 2/200\n",
      "train loss: 0.3761333227157593 | val loss: 0.8005549907684326\n"
     ]
    },
    {
     "name": "stderr",
     "output_type": "stream",
     "text": [
      "Batch: 300, Training loss/acc: 0.33/0.86: 100%|██████████| 300/300 [01:12<00:00,  4.13batch/s]\n"
     ]
    },
    {
     "name": "stdout",
     "output_type": "stream",
     "text": [
      "Epoch: 3/200\n",
      "train loss: 0.33262231945991516 | val loss: 0.2921491265296936\n",
      "== Validation loss has an improvement, save model ==\n"
     ]
    },
    {
     "name": "stderr",
     "output_type": "stream",
     "text": [
      "\r",
      "Training batch:   0%|          | 0/300 [00:00<?, ?batch/s]"
     ]
    },
    {
     "name": "stdout",
     "output_type": "stream",
     "text": [
      "Model saved in path: /data/seanyu/UPMC_pathology/result/resnet50_RandomSplit_FromScratch/model.ckpt\n"
     ]
    },
    {
     "name": "stderr",
     "output_type": "stream",
     "text": [
      "Batch: 300, Training loss/acc: 0.31/0.88: 100%|██████████| 300/300 [01:12<00:00,  4.14batch/s]\n"
     ]
    },
    {
     "name": "stdout",
     "output_type": "stream",
     "text": [
      "Epoch: 4/200\n",
      "train loss: 0.3076741099357605 | val loss: 0.24352528154850006\n",
      "== Validation loss has an improvement, save model ==\n"
     ]
    },
    {
     "name": "stderr",
     "output_type": "stream",
     "text": [
      "\r",
      "Training batch:   0%|          | 0/300 [00:00<?, ?batch/s]"
     ]
    },
    {
     "name": "stdout",
     "output_type": "stream",
     "text": [
      "Model saved in path: /data/seanyu/UPMC_pathology/result/resnet50_RandomSplit_FromScratch/model.ckpt\n"
     ]
    },
    {
     "name": "stderr",
     "output_type": "stream",
     "text": [
      "Batch: 300, Training loss/acc: 0.28/0.88: 100%|██████████| 300/300 [01:12<00:00,  4.14batch/s]\n",
      "Training batch:   0%|          | 0/300 [00:00<?, ?batch/s]"
     ]
    },
    {
     "name": "stdout",
     "output_type": "stream",
     "text": [
      "Epoch: 5/200\n",
      "train loss: 0.282113641500473 | val loss: 0.539614737033844\n"
     ]
    },
    {
     "name": "stderr",
     "output_type": "stream",
     "text": [
      "Batch: 300, Training loss/acc: 0.26/0.89: 100%|██████████| 300/300 [01:13<00:00,  4.11batch/s]\n",
      "Training batch:   0%|          | 0/300 [00:00<?, ?batch/s]"
     ]
    },
    {
     "name": "stdout",
     "output_type": "stream",
     "text": [
      "Epoch: 6/200\n",
      "train loss: 0.26206904649734497 | val loss: 0.3370812237262726\n"
     ]
    },
    {
     "name": "stderr",
     "output_type": "stream",
     "text": [
      "Batch: 300, Training loss/acc: 0.25/0.90: 100%|██████████| 300/300 [01:12<00:00,  4.12batch/s]\n"
     ]
    },
    {
     "name": "stdout",
     "output_type": "stream",
     "text": [
      "Epoch: 7/200\n",
      "train loss: 0.24528299272060394 | val loss: 0.22632306814193726\n",
      "== Validation loss has an improvement, save model ==\n"
     ]
    },
    {
     "name": "stderr",
     "output_type": "stream",
     "text": [
      "\r",
      "Training batch:   0%|          | 0/300 [00:00<?, ?batch/s]"
     ]
    },
    {
     "name": "stdout",
     "output_type": "stream",
     "text": [
      "Model saved in path: /data/seanyu/UPMC_pathology/result/resnet50_RandomSplit_FromScratch/model.ckpt\n"
     ]
    },
    {
     "name": "stderr",
     "output_type": "stream",
     "text": [
      "Batch: 300, Training loss/acc: 0.24/0.90: 100%|██████████| 300/300 [01:12<00:00,  4.13batch/s]\n"
     ]
    },
    {
     "name": "stdout",
     "output_type": "stream",
     "text": [
      "Epoch: 8/200\n",
      "train loss: 0.2351379692554474 | val loss: 0.17439496517181396\n",
      "== Validation loss has an improvement, save model ==\n"
     ]
    },
    {
     "name": "stderr",
     "output_type": "stream",
     "text": [
      "\r",
      "Training batch:   0%|          | 0/300 [00:00<?, ?batch/s]"
     ]
    },
    {
     "name": "stdout",
     "output_type": "stream",
     "text": [
      "Model saved in path: /data/seanyu/UPMC_pathology/result/resnet50_RandomSplit_FromScratch/model.ckpt\n"
     ]
    },
    {
     "name": "stderr",
     "output_type": "stream",
     "text": [
      "Batch: 300, Training loss/acc: 0.21/0.91: 100%|██████████| 300/300 [01:12<00:00,  4.13batch/s]\n",
      "Training batch:   0%|          | 0/300 [00:00<?, ?batch/s]"
     ]
    },
    {
     "name": "stdout",
     "output_type": "stream",
     "text": [
      "Epoch: 9/200\n",
      "train loss: 0.21461811661720276 | val loss: 0.32897722721099854\n"
     ]
    },
    {
     "name": "stderr",
     "output_type": "stream",
     "text": [
      "Batch: 300, Training loss/acc: 0.18/0.93: 100%|██████████| 300/300 [01:12<00:00,  4.14batch/s]\n"
     ]
    },
    {
     "name": "stdout",
     "output_type": "stream",
     "text": [
      "Epoch: 10/200\n",
      "train loss: 0.17806312441825867 | val loss: 0.12372982501983643\n",
      "== Validation loss has an improvement, save model ==\n"
     ]
    },
    {
     "name": "stderr",
     "output_type": "stream",
     "text": [
      "\r",
      "Training batch:   0%|          | 0/300 [00:00<?, ?batch/s]"
     ]
    },
    {
     "name": "stdout",
     "output_type": "stream",
     "text": [
      "Model saved in path: /data/seanyu/UPMC_pathology/result/resnet50_RandomSplit_FromScratch/model.ckpt\n"
     ]
    },
    {
     "name": "stderr",
     "output_type": "stream",
     "text": [
      "Batch: 300, Training loss/acc: 0.15/0.94: 100%|██████████| 300/300 [01:12<00:00,  4.13batch/s]\n",
      "Training batch:   0%|          | 0/300 [00:00<?, ?batch/s]"
     ]
    },
    {
     "name": "stdout",
     "output_type": "stream",
     "text": [
      "Epoch: 11/200\n",
      "train loss: 0.1488434374332428 | val loss: 0.4207185208797455\n"
     ]
    },
    {
     "name": "stderr",
     "output_type": "stream",
     "text": [
      "Batch: 300, Training loss/acc: 0.15/0.94: 100%|██████████| 300/300 [01:12<00:00,  4.13batch/s]\n",
      "Training batch:   0%|          | 0/300 [00:00<?, ?batch/s]"
     ]
    },
    {
     "name": "stdout",
     "output_type": "stream",
     "text": [
      "Epoch: 12/200\n",
      "train loss: 0.15326136350631714 | val loss: 0.14256209135055542\n"
     ]
    },
    {
     "name": "stderr",
     "output_type": "stream",
     "text": [
      "Batch: 300, Training loss/acc: 0.15/0.94: 100%|██████████| 300/300 [01:12<00:00,  4.14batch/s]\n",
      "Training batch:   0%|          | 0/300 [00:00<?, ?batch/s]"
     ]
    },
    {
     "name": "stdout",
     "output_type": "stream",
     "text": [
      "Epoch: 13/200\n",
      "train loss: 0.14906473457813263 | val loss: 0.14518259465694427\n"
     ]
    },
    {
     "name": "stderr",
     "output_type": "stream",
     "text": [
      "Batch: 300, Training loss/acc: 0.14/0.95: 100%|██████████| 300/300 [01:12<00:00,  4.14batch/s]\n",
      "Training batch:   0%|          | 0/300 [00:00<?, ?batch/s]"
     ]
    },
    {
     "name": "stdout",
     "output_type": "stream",
     "text": [
      "Epoch: 14/200\n",
      "train loss: 0.14351384341716766 | val loss: 0.1447795331478119\n"
     ]
    },
    {
     "name": "stderr",
     "output_type": "stream",
     "text": [
      "Batch: 300, Training loss/acc: 0.11/0.96: 100%|██████████| 300/300 [01:12<00:00,  4.14batch/s]\n"
     ]
    },
    {
     "name": "stdout",
     "output_type": "stream",
     "text": [
      "Epoch: 15/200\n",
      "train loss: 0.11417734622955322 | val loss: 0.10076126456260681\n",
      "== Validation loss has an improvement, save model ==\n"
     ]
    },
    {
     "name": "stderr",
     "output_type": "stream",
     "text": [
      "\r",
      "Training batch:   0%|          | 0/300 [00:00<?, ?batch/s]"
     ]
    },
    {
     "name": "stdout",
     "output_type": "stream",
     "text": [
      "Model saved in path: /data/seanyu/UPMC_pathology/result/resnet50_RandomSplit_FromScratch/model.ckpt\n"
     ]
    },
    {
     "name": "stderr",
     "output_type": "stream",
     "text": [
      "Batch: 300, Training loss/acc: 0.11/0.96: 100%|██████████| 300/300 [01:12<00:00,  4.15batch/s]\n",
      "Training batch:   0%|          | 0/300 [00:00<?, ?batch/s]"
     ]
    },
    {
     "name": "stdout",
     "output_type": "stream",
     "text": [
      "Epoch: 16/200\n",
      "train loss: 0.10871091485023499 | val loss: 0.1048525795340538\n"
     ]
    },
    {
     "name": "stderr",
     "output_type": "stream",
     "text": [
      "Batch: 300, Training loss/acc: 0.11/0.96: 100%|██████████| 300/300 [01:12<00:00,  4.15batch/s]\n",
      "Training batch:   0%|          | 0/300 [00:00<?, ?batch/s]"
     ]
    },
    {
     "name": "stdout",
     "output_type": "stream",
     "text": [
      "Epoch: 17/200\n",
      "train loss: 0.10627761483192444 | val loss: 0.1274941861629486\n"
     ]
    },
    {
     "name": "stderr",
     "output_type": "stream",
     "text": [
      "Batch: 300, Training loss/acc: 0.11/0.96: 100%|██████████| 300/300 [01:12<00:00,  4.14batch/s]\n",
      "Training batch:   0%|          | 0/300 [00:00<?, ?batch/s]"
     ]
    },
    {
     "name": "stdout",
     "output_type": "stream",
     "text": [
      "Epoch: 18/200\n",
      "train loss: 0.10933807492256165 | val loss: 0.11114060878753662\n"
     ]
    },
    {
     "name": "stderr",
     "output_type": "stream",
     "text": [
      "Batch: 300, Training loss/acc: 0.10/0.96: 100%|██████████| 300/300 [01:12<00:00,  4.15batch/s]\n"
     ]
    },
    {
     "name": "stdout",
     "output_type": "stream",
     "text": [
      "Epoch: 19/200\n",
      "train loss: 0.09701264649629593 | val loss: 0.08336714655160904\n",
      "== Validation loss has an improvement, save model ==\n"
     ]
    },
    {
     "name": "stderr",
     "output_type": "stream",
     "text": [
      "\r",
      "Training batch:   0%|          | 0/300 [00:00<?, ?batch/s]"
     ]
    },
    {
     "name": "stdout",
     "output_type": "stream",
     "text": [
      "Model saved in path: /data/seanyu/UPMC_pathology/result/resnet50_RandomSplit_FromScratch/model.ckpt\n"
     ]
    },
    {
     "name": "stderr",
     "output_type": "stream",
     "text": [
      "Batch: 300, Training loss/acc: 0.11/0.96: 100%|██████████| 300/300 [01:12<00:00,  4.16batch/s]\n"
     ]
    },
    {
     "name": "stdout",
     "output_type": "stream",
     "text": [
      "Epoch: 20/200\n",
      "train loss: 0.10621669143438339 | val loss: 0.08130951970815659\n",
      "== Validation loss has an improvement, save model ==\n"
     ]
    },
    {
     "name": "stderr",
     "output_type": "stream",
     "text": [
      "\r",
      "Training batch:   0%|          | 0/300 [00:00<?, ?batch/s]"
     ]
    },
    {
     "name": "stdout",
     "output_type": "stream",
     "text": [
      "Model saved in path: /data/seanyu/UPMC_pathology/result/resnet50_RandomSplit_FromScratch/model.ckpt\n"
     ]
    },
    {
     "name": "stderr",
     "output_type": "stream",
     "text": [
      "Batch: 300, Training loss/acc: 0.10/0.96: 100%|██████████| 300/300 [01:12<00:00,  4.11batch/s]\n",
      "Training batch:   0%|          | 0/300 [00:00<?, ?batch/s]"
     ]
    },
    {
     "name": "stdout",
     "output_type": "stream",
     "text": [
      "Epoch: 21/200\n",
      "train loss: 0.09937171638011932 | val loss: 0.09838148951530457\n"
     ]
    },
    {
     "name": "stderr",
     "output_type": "stream",
     "text": [
      "Batch: 300, Training loss/acc: 0.09/0.97: 100%|██████████| 300/300 [01:12<00:00,  4.14batch/s]\n",
      "Training batch:   0%|          | 0/300 [00:00<?, ?batch/s]"
     ]
    },
    {
     "name": "stdout",
     "output_type": "stream",
     "text": [
      "Epoch: 22/200\n",
      "train loss: 0.08666792511940002 | val loss: 0.10016882419586182\n"
     ]
    },
    {
     "name": "stderr",
     "output_type": "stream",
     "text": [
      "Batch: 300, Training loss/acc: 0.08/0.97: 100%|██████████| 300/300 [01:12<00:00,  4.15batch/s]\n",
      "Training batch:   0%|          | 0/300 [00:00<?, ?batch/s]"
     ]
    },
    {
     "name": "stdout",
     "output_type": "stream",
     "text": [
      "Epoch: 23/200\n",
      "train loss: 0.07974520325660706 | val loss: 0.08902228623628616\n"
     ]
    },
    {
     "name": "stderr",
     "output_type": "stream",
     "text": [
      "Batch: 300, Training loss/acc: 0.07/0.97: 100%|██████████| 300/300 [01:12<00:00,  4.14batch/s]\n",
      "Training batch:   0%|          | 0/300 [00:00<?, ?batch/s]"
     ]
    },
    {
     "name": "stdout",
     "output_type": "stream",
     "text": [
      "Epoch: 24/200\n",
      "train loss: 0.07431180030107498 | val loss: 0.10366562008857727\n"
     ]
    },
    {
     "name": "stderr",
     "output_type": "stream",
     "text": [
      "Batch: 300, Training loss/acc: 0.08/0.97: 100%|██████████| 300/300 [01:12<00:00,  4.14batch/s]\n",
      "Training batch:   0%|          | 0/300 [00:00<?, ?batch/s]"
     ]
    },
    {
     "name": "stdout",
     "output_type": "stream",
     "text": [
      "Epoch: 25/200\n",
      "train loss: 0.07876040041446686 | val loss: 0.08762119710445404\n"
     ]
    },
    {
     "name": "stderr",
     "output_type": "stream",
     "text": [
      "Batch: 300, Training loss/acc: 0.07/0.97: 100%|██████████| 300/300 [01:12<00:00,  4.15batch/s]\n",
      "Training batch:   0%|          | 0/300 [00:00<?, ?batch/s]"
     ]
    },
    {
     "name": "stdout",
     "output_type": "stream",
     "text": [
      "Epoch: 26/200\n",
      "train loss: 0.07291263341903687 | val loss: 0.09712231159210205\n"
     ]
    },
    {
     "name": "stderr",
     "output_type": "stream",
     "text": [
      "Batch: 300, Training loss/acc: 0.07/0.97: 100%|██████████| 300/300 [01:12<00:00,  4.13batch/s]\n",
      "Training batch:   0%|          | 0/300 [00:00<?, ?batch/s]"
     ]
    },
    {
     "name": "stdout",
     "output_type": "stream",
     "text": [
      "Epoch: 27/200\n",
      "train loss: 0.07098110765218735 | val loss: 0.1068318784236908\n"
     ]
    },
    {
     "name": "stderr",
     "output_type": "stream",
     "text": [
      "Batch: 300, Training loss/acc: 0.07/0.98: 100%|██████████| 300/300 [01:12<00:00,  4.13batch/s]\n",
      "Training batch:   0%|          | 0/300 [00:00<?, ?batch/s]"
     ]
    },
    {
     "name": "stdout",
     "output_type": "stream",
     "text": [
      "Epoch: 28/200\n",
      "train loss: 0.07018161565065384 | val loss: 0.08798050880432129\n"
     ]
    },
    {
     "name": "stderr",
     "output_type": "stream",
     "text": [
      "Batch: 300, Training loss/acc: 0.06/0.98: 100%|██████████| 300/300 [01:12<00:00,  4.13batch/s]\n"
     ]
    },
    {
     "name": "stdout",
     "output_type": "stream",
     "text": [
      "Epoch: 29/200\n",
      "train loss: 0.06440979987382889 | val loss: 0.08858134597539902\n",
      "Earlystop criteria met\n",
      "Stopping Thread 0\n",
      "Stopping Thread 1\n",
      "Stopping Thread 2\n",
      "Stopping Thread 3\n",
      "Stopping Thread 4\n",
      "Stopping Thread 5\n",
      "Stopping Thread 6\n",
      "Stopping Thread 7\n",
      "Stopping Thread 8\n",
      "End time: Tue Oct  2 13:42:35 2018\n",
      "Total elapse time: 00:36:58\n",
      "Stopping Thread 0\n",
      "Stopping Thread 1\n",
      "Stopping Thread 2\n",
      "Stopping Thread 3\n",
      "Stopping Thread 4\n",
      "Stopping Thread 5\n",
      "Stopping Thread 6\n",
      "Stopping Thread 7\n",
      "Stopping Thread 8\n",
      "End time: Tue Oct  2 13:42:44 2018\n",
      "Total elapse time: 00:37:07\n",
      "INFO:tensorflow:Restoring parameters from /data/seanyu/UPMC_pathology/result/resnet50_RandomSplit_FromScratch/model.ckpt\n"
     ]
    },
    {
     "name": "stderr",
     "output_type": "stream",
     "text": [
      "100%|██████████| 35/35 [00:03<00:00, 10.29it/s]\n"
     ]
    },
    {
     "name": "stdout",
     "output_type": "stream",
     "text": [
      "0.971689497716895\n",
      "/data/seanyu/UPMC_pathology/result/resnet50_RandomSplit_FromScratch has already exist, overwrite it\n",
      "Write recording file to /data/seanyu/UPMC_pathology/result/resnet50_RandomSplit_FromScratch/msg.txt\n",
      "copying /home/seanyu/project/UPMC_mitosis/config.py to /data/seanyu/UPMC_pathology/result/resnet50_RandomSplit_FromScratch/config.py\n",
      "copying /home/seanyu/project/UPMC_mitosis/model.py to /data/seanyu/UPMC_pathology/result/resnet50_RandomSplit_FromScratch/model.py\n",
      "(1095, 256, 256, 3)\n",
      "== INITIALIZE PARAMETERS ==\n"
     ]
    },
    {
     "name": "stderr",
     "output_type": "stream",
     "text": [
      "\r",
      "Training batch:   0%|          | 0/300 [00:00<?, ?batch/s]"
     ]
    },
    {
     "name": "stdout",
     "output_type": "stream",
     "text": [
      "Start time: Tue Oct  2 13:43:07 2018\n"
     ]
    },
    {
     "name": "stderr",
     "output_type": "stream",
     "text": [
      "Batch: 300, Training loss/acc: 0.47/0.78: 100%|██████████| 300/300 [01:21<00:00,  3.67batch/s]\n"
     ]
    },
    {
     "name": "stdout",
     "output_type": "stream",
     "text": [
      "Epoch: 1/200\n",
      "train loss: 0.4664837121963501 | val loss: 0.3399782180786133\n",
      "== Validation loss has an improvement, save model ==\n"
     ]
    },
    {
     "name": "stderr",
     "output_type": "stream",
     "text": [
      "\r",
      "Training batch:   0%|          | 0/300 [00:00<?, ?batch/s]"
     ]
    },
    {
     "name": "stdout",
     "output_type": "stream",
     "text": [
      "Model saved in path: /data/seanyu/UPMC_pathology/result/resnet50_RandomSplit_FromScratch/model.ckpt\n"
     ]
    },
    {
     "name": "stderr",
     "output_type": "stream",
     "text": [
      "Batch: 300, Training loss/acc: 0.38/0.84: 100%|██████████| 300/300 [01:12<00:00,  4.13batch/s]\n"
     ]
    },
    {
     "name": "stdout",
     "output_type": "stream",
     "text": [
      "Epoch: 2/200\n",
      "train loss: 0.3760630786418915 | val loss: 0.22688238322734833\n",
      "== Validation loss has an improvement, save model ==\n"
     ]
    },
    {
     "name": "stderr",
     "output_type": "stream",
     "text": [
      "\r",
      "Training batch:   0%|          | 0/300 [00:00<?, ?batch/s]"
     ]
    },
    {
     "name": "stdout",
     "output_type": "stream",
     "text": [
      "Model saved in path: /data/seanyu/UPMC_pathology/result/resnet50_RandomSplit_FromScratch/model.ckpt\n"
     ]
    },
    {
     "name": "stderr",
     "output_type": "stream",
     "text": [
      "Batch: 300, Training loss/acc: 0.32/0.86: 100%|██████████| 300/300 [01:13<00:00,  4.10batch/s]\n",
      "Training batch:   0%|          | 0/300 [00:00<?, ?batch/s]"
     ]
    },
    {
     "name": "stdout",
     "output_type": "stream",
     "text": [
      "Epoch: 3/200\n",
      "train loss: 0.3178127408027649 | val loss: 0.3110962212085724\n"
     ]
    },
    {
     "name": "stderr",
     "output_type": "stream",
     "text": [
      "Batch: 300, Training loss/acc: 0.30/0.88: 100%|██████████| 300/300 [01:12<00:00,  4.14batch/s]\n"
     ]
    },
    {
     "name": "stdout",
     "output_type": "stream",
     "text": [
      "Epoch: 4/200\n",
      "train loss: 0.29563891887664795 | val loss: 0.211626797914505\n",
      "== Validation loss has an improvement, save model ==\n"
     ]
    },
    {
     "name": "stderr",
     "output_type": "stream",
     "text": [
      "\r",
      "Training batch:   0%|          | 0/300 [00:00<?, ?batch/s]"
     ]
    },
    {
     "name": "stdout",
     "output_type": "stream",
     "text": [
      "Model saved in path: /data/seanyu/UPMC_pathology/result/resnet50_RandomSplit_FromScratch/model.ckpt\n"
     ]
    },
    {
     "name": "stderr",
     "output_type": "stream",
     "text": [
      "Batch: 300, Training loss/acc: 0.28/0.88: 100%|██████████| 300/300 [01:12<00:00,  4.13batch/s]\n"
     ]
    },
    {
     "name": "stdout",
     "output_type": "stream",
     "text": [
      "Epoch: 5/200\n",
      "train loss: 0.2768431603908539 | val loss: 0.19594933092594147\n",
      "== Validation loss has an improvement, save model ==\n"
     ]
    },
    {
     "name": "stderr",
     "output_type": "stream",
     "text": [
      "\r",
      "Training batch:   0%|          | 0/300 [00:00<?, ?batch/s]"
     ]
    },
    {
     "name": "stdout",
     "output_type": "stream",
     "text": [
      "Model saved in path: /data/seanyu/UPMC_pathology/result/resnet50_RandomSplit_FromScratch/model.ckpt\n"
     ]
    },
    {
     "name": "stderr",
     "output_type": "stream",
     "text": [
      "Batch: 300, Training loss/acc: 0.26/0.89: 100%|██████████| 300/300 [01:12<00:00,  4.14batch/s]\n"
     ]
    },
    {
     "name": "stdout",
     "output_type": "stream",
     "text": [
      "Epoch: 6/200\n",
      "train loss: 0.2636029124259949 | val loss: 0.14306579530239105\n",
      "== Validation loss has an improvement, save model ==\n"
     ]
    },
    {
     "name": "stderr",
     "output_type": "stream",
     "text": [
      "\r",
      "Training batch:   0%|          | 0/300 [00:00<?, ?batch/s]"
     ]
    },
    {
     "name": "stdout",
     "output_type": "stream",
     "text": [
      "Model saved in path: /data/seanyu/UPMC_pathology/result/resnet50_RandomSplit_FromScratch/model.ckpt\n"
     ]
    },
    {
     "name": "stderr",
     "output_type": "stream",
     "text": [
      "Batch: 300, Training loss/acc: 0.24/0.91: 100%|██████████| 300/300 [01:12<00:00,  4.14batch/s]\n",
      "Training batch:   0%|          | 0/300 [00:00<?, ?batch/s]"
     ]
    },
    {
     "name": "stdout",
     "output_type": "stream",
     "text": [
      "Epoch: 7/200\n",
      "train loss: 0.23805084824562073 | val loss: 0.4401794672012329\n"
     ]
    },
    {
     "name": "stderr",
     "output_type": "stream",
     "text": [
      "Batch: 300, Training loss/acc: 0.23/0.91: 100%|██████████| 300/300 [01:12<00:00,  4.15batch/s]\n"
     ]
    },
    {
     "name": "stdout",
     "output_type": "stream",
     "text": [
      "Epoch: 8/200\n",
      "train loss: 0.22712546586990356 | val loss: 0.13192015886306763\n",
      "== Validation loss has an improvement, save model ==\n"
     ]
    },
    {
     "name": "stderr",
     "output_type": "stream",
     "text": [
      "\r",
      "Training batch:   0%|          | 0/300 [00:00<?, ?batch/s]"
     ]
    },
    {
     "name": "stdout",
     "output_type": "stream",
     "text": [
      "Model saved in path: /data/seanyu/UPMC_pathology/result/resnet50_RandomSplit_FromScratch/model.ckpt\n"
     ]
    },
    {
     "name": "stderr",
     "output_type": "stream",
     "text": [
      "Batch: 300, Training loss/acc: 0.20/0.92: 100%|██████████| 300/300 [01:13<00:00,  4.09batch/s]\n",
      "Training batch:   0%|          | 0/300 [00:00<?, ?batch/s]"
     ]
    },
    {
     "name": "stdout",
     "output_type": "stream",
     "text": [
      "Epoch: 9/200\n",
      "train loss: 0.1976696252822876 | val loss: 0.2195448875427246\n"
     ]
    },
    {
     "name": "stderr",
     "output_type": "stream",
     "text": [
      "Batch: 300, Training loss/acc: 0.19/0.92: 100%|██████████| 300/300 [01:12<00:00,  4.14batch/s]\n",
      "Training batch:   0%|          | 0/300 [00:00<?, ?batch/s]"
     ]
    },
    {
     "name": "stdout",
     "output_type": "stream",
     "text": [
      "Epoch: 10/200\n",
      "train loss: 0.19491052627563477 | val loss: 0.13755595684051514\n"
     ]
    },
    {
     "name": "stderr",
     "output_type": "stream",
     "text": [
      "Batch: 300, Training loss/acc: 0.16/0.94: 100%|██████████| 300/300 [01:12<00:00,  4.14batch/s]\n",
      "Training batch:   0%|          | 0/300 [00:00<?, ?batch/s]"
     ]
    },
    {
     "name": "stdout",
     "output_type": "stream",
     "text": [
      "Epoch: 11/200\n",
      "train loss: 0.1598256379365921 | val loss: 0.14016121625900269\n"
     ]
    },
    {
     "name": "stderr",
     "output_type": "stream",
     "text": [
      "Batch: 300, Training loss/acc: 0.15/0.94: 100%|██████████| 300/300 [01:12<00:00,  4.14batch/s]\n"
     ]
    },
    {
     "name": "stdout",
     "output_type": "stream",
     "text": [
      "Epoch: 12/200\n",
      "train loss: 0.15193626284599304 | val loss: 0.10663653910160065\n",
      "== Validation loss has an improvement, save model ==\n"
     ]
    },
    {
     "name": "stderr",
     "output_type": "stream",
     "text": [
      "\r",
      "Training batch:   0%|          | 0/300 [00:00<?, ?batch/s]"
     ]
    },
    {
     "name": "stdout",
     "output_type": "stream",
     "text": [
      "Model saved in path: /data/seanyu/UPMC_pathology/result/resnet50_RandomSplit_FromScratch/model.ckpt\n"
     ]
    },
    {
     "name": "stderr",
     "output_type": "stream",
     "text": [
      "Batch: 300, Training loss/acc: 0.14/0.94: 100%|██████████| 300/300 [01:12<00:00,  4.11batch/s]\n",
      "Training batch:   0%|          | 0/300 [00:00<?, ?batch/s]"
     ]
    },
    {
     "name": "stdout",
     "output_type": "stream",
     "text": [
      "Epoch: 13/200\n",
      "train loss: 0.14355725049972534 | val loss: 0.12018869817256927\n"
     ]
    },
    {
     "name": "stderr",
     "output_type": "stream",
     "text": [
      "Batch: 300, Training loss/acc: 0.13/0.95: 100%|██████████| 300/300 [01:12<00:00,  4.13batch/s]\n"
     ]
    },
    {
     "name": "stdout",
     "output_type": "stream",
     "text": [
      "Epoch: 14/200\n",
      "train loss: 0.13316768407821655 | val loss: 0.08190897852182388\n",
      "== Validation loss has an improvement, save model ==\n"
     ]
    },
    {
     "name": "stderr",
     "output_type": "stream",
     "text": [
      "\r",
      "Training batch:   0%|          | 0/300 [00:00<?, ?batch/s]"
     ]
    },
    {
     "name": "stdout",
     "output_type": "stream",
     "text": [
      "Model saved in path: /data/seanyu/UPMC_pathology/result/resnet50_RandomSplit_FromScratch/model.ckpt\n"
     ]
    },
    {
     "name": "stderr",
     "output_type": "stream",
     "text": [
      "Batch: 300, Training loss/acc: 0.13/0.95: 100%|██████████| 300/300 [01:12<00:00,  4.14batch/s]\n",
      "Training batch:   0%|          | 0/300 [00:00<?, ?batch/s]"
     ]
    },
    {
     "name": "stdout",
     "output_type": "stream",
     "text": [
      "Epoch: 15/200\n",
      "train loss: 0.1321464478969574 | val loss: 0.15554192662239075\n"
     ]
    },
    {
     "name": "stderr",
     "output_type": "stream",
     "text": [
      "Batch: 300, Training loss/acc: 0.13/0.95: 100%|██████████| 300/300 [01:12<00:00,  4.14batch/s]\n",
      "Training batch:   0%|          | 0/300 [00:00<?, ?batch/s]"
     ]
    },
    {
     "name": "stdout",
     "output_type": "stream",
     "text": [
      "Epoch: 16/200\n",
      "train loss: 0.12565939128398895 | val loss: 0.08553428947925568\n"
     ]
    },
    {
     "name": "stderr",
     "output_type": "stream",
     "text": [
      "Batch: 300, Training loss/acc: 0.11/0.96: 100%|██████████| 300/300 [01:12<00:00,  4.14batch/s]\n",
      "Training batch:   0%|          | 0/300 [00:00<?, ?batch/s]"
     ]
    },
    {
     "name": "stdout",
     "output_type": "stream",
     "text": [
      "Epoch: 17/200\n",
      "train loss: 0.11036763340234756 | val loss: 0.14794670045375824\n"
     ]
    },
    {
     "name": "stderr",
     "output_type": "stream",
     "text": [
      "Batch: 300, Training loss/acc: 0.10/0.96: 100%|██████████| 300/300 [01:12<00:00,  4.13batch/s]\n",
      "Training batch:   0%|          | 0/300 [00:00<?, ?batch/s]"
     ]
    },
    {
     "name": "stdout",
     "output_type": "stream",
     "text": [
      "Epoch: 18/200\n",
      "train loss: 0.09831754118204117 | val loss: 0.10180007666349411\n"
     ]
    },
    {
     "name": "stderr",
     "output_type": "stream",
     "text": [
      "Batch: 300, Training loss/acc: 0.10/0.96: 100%|██████████| 300/300 [01:12<00:00,  4.14batch/s]\n",
      "Training batch:   0%|          | 0/300 [00:00<?, ?batch/s]"
     ]
    },
    {
     "name": "stdout",
     "output_type": "stream",
     "text": [
      "Epoch: 19/200\n",
      "train loss: 0.09515891969203949 | val loss: 0.12783564627170563\n"
     ]
    },
    {
     "name": "stderr",
     "output_type": "stream",
     "text": [
      "Batch: 300, Training loss/acc: 0.10/0.96: 100%|██████████| 300/300 [01:13<00:00,  4.10batch/s]\n",
      "Training batch:   0%|          | 0/300 [00:00<?, ?batch/s]"
     ]
    },
    {
     "name": "stdout",
     "output_type": "stream",
     "text": [
      "Epoch: 20/200\n",
      "train loss: 0.09657315909862518 | val loss: 0.08262953907251358\n"
     ]
    },
    {
     "name": "stderr",
     "output_type": "stream",
     "text": [
      "Batch: 300, Training loss/acc: 0.09/0.97: 100%|██████████| 300/300 [01:12<00:00,  4.13batch/s]\n",
      "Training batch:   0%|          | 0/300 [00:00<?, ?batch/s]"
     ]
    },
    {
     "name": "stdout",
     "output_type": "stream",
     "text": [
      "Epoch: 21/200\n",
      "train loss: 0.08500503748655319 | val loss: 0.10477770864963531\n"
     ]
    },
    {
     "name": "stderr",
     "output_type": "stream",
     "text": [
      "Batch: 300, Training loss/acc: 0.08/0.97: 100%|██████████| 300/300 [01:12<00:00,  4.13batch/s]\n",
      "Training batch:   0%|          | 0/300 [00:00<?, ?batch/s]"
     ]
    },
    {
     "name": "stdout",
     "output_type": "stream",
     "text": [
      "Epoch: 22/200\n",
      "train loss: 0.08382084220647812 | val loss: 0.09514860808849335\n"
     ]
    },
    {
     "name": "stderr",
     "output_type": "stream",
     "text": [
      "Batch: 300, Training loss/acc: 0.08/0.97: 100%|██████████| 300/300 [01:12<00:00,  4.13batch/s]\n"
     ]
    },
    {
     "name": "stdout",
     "output_type": "stream",
     "text": [
      "Epoch: 23/200\n",
      "train loss: 0.08046504110097885 | val loss: 0.1023179367184639\n",
      "Earlystop criteria met\n",
      "Stopping Thread 0\n",
      "Stopping Thread 1\n",
      "Stopping Thread 2\n",
      "Stopping Thread 3\n",
      "Stopping Thread 4\n",
      "Stopping Thread 5\n",
      "Stopping Thread 6\n",
      "Stopping Thread 7\n",
      "Stopping Thread 8\n",
      "End time: Tue Oct  2 14:12:34 2018\n",
      "Total elapse time: 00:29:26\n",
      "Stopping Thread 0\n",
      "Stopping Thread 1\n",
      "Stopping Thread 2\n",
      "Stopping Thread 3\n",
      "Stopping Thread 4\n",
      "Stopping Thread 5\n",
      "Stopping Thread 6\n",
      "Stopping Thread 7\n",
      "Stopping Thread 8\n",
      "End time: Tue Oct  2 14:12:43 2018\n",
      "Total elapse time: 00:29:35\n",
      "INFO:tensorflow:Restoring parameters from /data/seanyu/UPMC_pathology/result/resnet50_RandomSplit_FromScratch/model.ckpt\n"
     ]
    },
    {
     "name": "stderr",
     "output_type": "stream",
     "text": [
      "100%|██████████| 35/35 [00:03<00:00, 10.32it/s]\n"
     ]
    },
    {
     "name": "stdout",
     "output_type": "stream",
     "text": [
      "0.9680365296803652\n",
      "/data/seanyu/UPMC_pathology/result/resnet50_RandomSplit_FromScratch has already exist, overwrite it\n",
      "Write recording file to /data/seanyu/UPMC_pathology/result/resnet50_RandomSplit_FromScratch/msg.txt\n",
      "copying /home/seanyu/project/UPMC_mitosis/config.py to /data/seanyu/UPMC_pathology/result/resnet50_RandomSplit_FromScratch/config.py\n",
      "copying /home/seanyu/project/UPMC_mitosis/model.py to /data/seanyu/UPMC_pathology/result/resnet50_RandomSplit_FromScratch/model.py\n",
      "(1095, 256, 256, 3)\n",
      "== INITIALIZE PARAMETERS ==\n"
     ]
    },
    {
     "name": "stderr",
     "output_type": "stream",
     "text": [
      "\r",
      "Training batch:   0%|          | 0/300 [00:00<?, ?batch/s]"
     ]
    },
    {
     "name": "stdout",
     "output_type": "stream",
     "text": [
      "Start time: Tue Oct  2 14:13:05 2018\n"
     ]
    },
    {
     "name": "stderr",
     "output_type": "stream",
     "text": [
      "Batch: 300, Training loss/acc: 0.48/0.77: 100%|██████████| 300/300 [01:21<00:00,  3.67batch/s]\n"
     ]
    },
    {
     "name": "stdout",
     "output_type": "stream",
     "text": [
      "Epoch: 1/200\n",
      "train loss: 0.4761621654033661 | val loss: 0.28939002752304077\n",
      "== Validation loss has an improvement, save model ==\n"
     ]
    },
    {
     "name": "stderr",
     "output_type": "stream",
     "text": [
      "\r",
      "Training batch:   0%|          | 0/300 [00:00<?, ?batch/s]"
     ]
    },
    {
     "name": "stdout",
     "output_type": "stream",
     "text": [
      "Model saved in path: /data/seanyu/UPMC_pathology/result/resnet50_RandomSplit_FromScratch/model.ckpt\n"
     ]
    },
    {
     "name": "stderr",
     "output_type": "stream",
     "text": [
      "Batch: 300, Training loss/acc: 0.37/0.84: 100%|██████████| 300/300 [01:12<00:00,  4.13batch/s]\n",
      "Training batch:   0%|          | 0/300 [00:00<?, ?batch/s]"
     ]
    },
    {
     "name": "stdout",
     "output_type": "stream",
     "text": [
      "Epoch: 2/200\n",
      "train loss: 0.37320196628570557 | val loss: 0.3480166494846344\n"
     ]
    },
    {
     "name": "stderr",
     "output_type": "stream",
     "text": [
      "Batch: 300, Training loss/acc: 0.33/0.86: 100%|██████████| 300/300 [01:12<00:00,  4.13batch/s]\n"
     ]
    },
    {
     "name": "stdout",
     "output_type": "stream",
     "text": [
      "Epoch: 3/200\n",
      "train loss: 0.32643240690231323 | val loss: 0.21726664900779724\n",
      "== Validation loss has an improvement, save model ==\n"
     ]
    },
    {
     "name": "stderr",
     "output_type": "stream",
     "text": [
      "\r",
      "Training batch:   0%|          | 0/300 [00:00<?, ?batch/s]"
     ]
    },
    {
     "name": "stdout",
     "output_type": "stream",
     "text": [
      "Model saved in path: /data/seanyu/UPMC_pathology/result/resnet50_RandomSplit_FromScratch/model.ckpt\n"
     ]
    },
    {
     "name": "stderr",
     "output_type": "stream",
     "text": [
      "Batch: 300, Training loss/acc: 0.31/0.87: 100%|██████████| 300/300 [01:13<00:00,  4.08batch/s]\n",
      "Training batch:   0%|          | 0/300 [00:00<?, ?batch/s]"
     ]
    },
    {
     "name": "stdout",
     "output_type": "stream",
     "text": [
      "Epoch: 4/200\n",
      "train loss: 0.30929672718048096 | val loss: 0.3664405047893524\n"
     ]
    },
    {
     "name": "stderr",
     "output_type": "stream",
     "text": [
      "Batch: 300, Training loss/acc: 0.27/0.89: 100%|██████████| 300/300 [01:12<00:00,  4.13batch/s]\n",
      "Training batch:   0%|          | 0/300 [00:00<?, ?batch/s]"
     ]
    },
    {
     "name": "stdout",
     "output_type": "stream",
     "text": [
      "Epoch: 5/200\n",
      "train loss: 0.27257540822029114 | val loss: 0.2836524546146393\n"
     ]
    },
    {
     "name": "stderr",
     "output_type": "stream",
     "text": [
      "Batch: 300, Training loss/acc: 0.26/0.89: 100%|██████████| 300/300 [01:12<00:00,  4.14batch/s]\n",
      "Training batch:   0%|          | 0/300 [00:00<?, ?batch/s]"
     ]
    },
    {
     "name": "stdout",
     "output_type": "stream",
     "text": [
      "Epoch: 6/200\n",
      "train loss: 0.2563357949256897 | val loss: 0.29645171761512756\n"
     ]
    },
    {
     "name": "stderr",
     "output_type": "stream",
     "text": [
      "Batch: 300, Training loss/acc: 0.23/0.91: 100%|██████████| 300/300 [01:12<00:00,  4.15batch/s]\n"
     ]
    },
    {
     "name": "stdout",
     "output_type": "stream",
     "text": [
      "Epoch: 7/200\n",
      "train loss: 0.22550612688064575 | val loss: 0.12444843351840973\n",
      "== Validation loss has an improvement, save model ==\n"
     ]
    },
    {
     "name": "stderr",
     "output_type": "stream",
     "text": [
      "\r",
      "Training batch:   0%|          | 0/300 [00:00<?, ?batch/s]"
     ]
    },
    {
     "name": "stdout",
     "output_type": "stream",
     "text": [
      "Model saved in path: /data/seanyu/UPMC_pathology/result/resnet50_RandomSplit_FromScratch/model.ckpt\n"
     ]
    },
    {
     "name": "stderr",
     "output_type": "stream",
     "text": [
      "Batch: 300, Training loss/acc: 0.20/0.92: 100%|██████████| 300/300 [01:12<00:00,  4.14batch/s]\n"
     ]
    },
    {
     "name": "stdout",
     "output_type": "stream",
     "text": [
      "Epoch: 8/200\n",
      "train loss: 0.20429779589176178 | val loss: 0.1093871220946312\n",
      "== Validation loss has an improvement, save model ==\n"
     ]
    },
    {
     "name": "stderr",
     "output_type": "stream",
     "text": [
      "\r",
      "Training batch:   0%|          | 0/300 [00:00<?, ?batch/s]"
     ]
    },
    {
     "name": "stdout",
     "output_type": "stream",
     "text": [
      "Model saved in path: /data/seanyu/UPMC_pathology/result/resnet50_RandomSplit_FromScratch/model.ckpt\n"
     ]
    },
    {
     "name": "stderr",
     "output_type": "stream",
     "text": [
      "Batch: 300, Training loss/acc: 0.20/0.93: 100%|██████████| 300/300 [01:12<00:00,  4.14batch/s]\n",
      "Training batch:   0%|          | 0/300 [00:00<?, ?batch/s]"
     ]
    },
    {
     "name": "stdout",
     "output_type": "stream",
     "text": [
      "Epoch: 9/200\n",
      "train loss: 0.19511361420154572 | val loss: 0.14269478619098663\n"
     ]
    },
    {
     "name": "stderr",
     "output_type": "stream",
     "text": [
      "Batch: 300, Training loss/acc: 0.19/0.93: 100%|██████████| 300/300 [01:13<00:00,  4.11batch/s]\n",
      "Training batch:   0%|          | 0/300 [00:00<?, ?batch/s]"
     ]
    },
    {
     "name": "stdout",
     "output_type": "stream",
     "text": [
      "Epoch: 10/200\n",
      "train loss: 0.18756680190563202 | val loss: 0.2510623335838318\n"
     ]
    },
    {
     "name": "stderr",
     "output_type": "stream",
     "text": [
      "Batch: 300, Training loss/acc: 0.17/0.93: 100%|██████████| 300/300 [01:12<00:00,  4.11batch/s]\n",
      "Training batch:   0%|          | 0/300 [00:00<?, ?batch/s]"
     ]
    },
    {
     "name": "stdout",
     "output_type": "stream",
     "text": [
      "Epoch: 11/200\n",
      "train loss: 0.17053255438804626 | val loss: 0.18267613649368286\n"
     ]
    },
    {
     "name": "stderr",
     "output_type": "stream",
     "text": [
      "Batch: 300, Training loss/acc: 0.16/0.94: 100%|██████████| 300/300 [01:12<00:00,  4.15batch/s]\n",
      "Training batch:   0%|          | 0/300 [00:00<?, ?batch/s]"
     ]
    },
    {
     "name": "stdout",
     "output_type": "stream",
     "text": [
      "Epoch: 12/200\n",
      "train loss: 0.16322000324726105 | val loss: 0.12944068014621735\n"
     ]
    },
    {
     "name": "stderr",
     "output_type": "stream",
     "text": [
      "Batch: 300, Training loss/acc: 0.15/0.95: 100%|██████████| 300/300 [01:12<00:00,  4.15batch/s]\n",
      "Training batch:   0%|          | 0/300 [00:00<?, ?batch/s]"
     ]
    },
    {
     "name": "stdout",
     "output_type": "stream",
     "text": [
      "Epoch: 13/200\n",
      "train loss: 0.1465100347995758 | val loss: 0.13031022250652313\n"
     ]
    },
    {
     "name": "stderr",
     "output_type": "stream",
     "text": [
      "Batch: 300, Training loss/acc: 0.13/0.95: 100%|██████████| 300/300 [01:12<00:00,  4.15batch/s]\n",
      "Training batch:   0%|          | 0/300 [00:00<?, ?batch/s]"
     ]
    },
    {
     "name": "stdout",
     "output_type": "stream",
     "text": [
      "Epoch: 14/200\n",
      "train loss: 0.1299646943807602 | val loss: 0.16466036438941956\n"
     ]
    },
    {
     "name": "stderr",
     "output_type": "stream",
     "text": [
      "Batch: 300, Training loss/acc: 0.12/0.95: 100%|██████████| 300/300 [01:12<00:00,  4.16batch/s]\n"
     ]
    },
    {
     "name": "stdout",
     "output_type": "stream",
     "text": [
      "Epoch: 15/200\n",
      "train loss: 0.11997149139642715 | val loss: 0.08713921159505844\n",
      "== Validation loss has an improvement, save model ==\n"
     ]
    },
    {
     "name": "stderr",
     "output_type": "stream",
     "text": [
      "\r",
      "Training batch:   0%|          | 0/300 [00:00<?, ?batch/s]"
     ]
    },
    {
     "name": "stdout",
     "output_type": "stream",
     "text": [
      "Model saved in path: /data/seanyu/UPMC_pathology/result/resnet50_RandomSplit_FromScratch/model.ckpt\n"
     ]
    },
    {
     "name": "stderr",
     "output_type": "stream",
     "text": [
      "Batch: 300, Training loss/acc: 0.12/0.95: 100%|██████████| 300/300 [01:12<00:00,  4.12batch/s]\n"
     ]
    },
    {
     "name": "stdout",
     "output_type": "stream",
     "text": [
      "Epoch: 16/200\n",
      "train loss: 0.1201280876994133 | val loss: 0.07414877414703369\n",
      "== Validation loss has an improvement, save model ==\n"
     ]
    },
    {
     "name": "stderr",
     "output_type": "stream",
     "text": [
      "\r",
      "Training batch:   0%|          | 0/300 [00:00<?, ?batch/s]"
     ]
    },
    {
     "name": "stdout",
     "output_type": "stream",
     "text": [
      "Model saved in path: /data/seanyu/UPMC_pathology/result/resnet50_RandomSplit_FromScratch/model.ckpt\n"
     ]
    },
    {
     "name": "stderr",
     "output_type": "stream",
     "text": [
      "Batch: 300, Training loss/acc: 0.11/0.96: 100%|██████████| 300/300 [01:12<00:00,  4.15batch/s]\n",
      "Training batch:   0%|          | 0/300 [00:00<?, ?batch/s]"
     ]
    },
    {
     "name": "stdout",
     "output_type": "stream",
     "text": [
      "Epoch: 17/200\n",
      "train loss: 0.10970883816480637 | val loss: 0.1395600438117981\n"
     ]
    },
    {
     "name": "stderr",
     "output_type": "stream",
     "text": [
      "Batch: 300, Training loss/acc: 0.13/0.95: 100%|██████████| 300/300 [01:12<00:00,  4.15batch/s]\n",
      "Training batch:   0%|          | 0/300 [00:00<?, ?batch/s]"
     ]
    },
    {
     "name": "stdout",
     "output_type": "stream",
     "text": [
      "Epoch: 18/200\n",
      "train loss: 0.12600350379943848 | val loss: 0.10401836782693863\n"
     ]
    },
    {
     "name": "stderr",
     "output_type": "stream",
     "text": [
      "Batch: 300, Training loss/acc: 0.10/0.96: 100%|██████████| 300/300 [01:12<00:00,  4.14batch/s]\n",
      "Training batch:   0%|          | 0/300 [00:00<?, ?batch/s]"
     ]
    },
    {
     "name": "stdout",
     "output_type": "stream",
     "text": [
      "Epoch: 19/200\n",
      "train loss: 0.10095158219337463 | val loss: 0.09282847493886948\n"
     ]
    },
    {
     "name": "stderr",
     "output_type": "stream",
     "text": [
      "Batch: 300, Training loss/acc: 0.09/0.96: 100%|██████████| 300/300 [01:12<00:00,  4.15batch/s]\n",
      "Training batch:   0%|          | 0/300 [00:00<?, ?batch/s]"
     ]
    },
    {
     "name": "stdout",
     "output_type": "stream",
     "text": [
      "Epoch: 20/200\n",
      "train loss: 0.09373676031827927 | val loss: 0.1331140100955963\n"
     ]
    },
    {
     "name": "stderr",
     "output_type": "stream",
     "text": [
      "Batch: 300, Training loss/acc: 0.09/0.96: 100%|██████████| 300/300 [01:12<00:00,  4.15batch/s]\n",
      "Training batch:   0%|          | 0/300 [00:00<?, ?batch/s]"
     ]
    },
    {
     "name": "stdout",
     "output_type": "stream",
     "text": [
      "Epoch: 21/200\n",
      "train loss: 0.0931498110294342 | val loss: 0.09223353862762451\n"
     ]
    },
    {
     "name": "stderr",
     "output_type": "stream",
     "text": [
      "Batch: 300, Training loss/acc: 0.10/0.96: 100%|██████████| 300/300 [01:12<00:00,  4.16batch/s]\n",
      "Training batch:   0%|          | 0/300 [00:00<?, ?batch/s]"
     ]
    },
    {
     "name": "stdout",
     "output_type": "stream",
     "text": [
      "Epoch: 22/200\n",
      "train loss: 0.09530618041753769 | val loss: 0.11093851923942566\n"
     ]
    },
    {
     "name": "stderr",
     "output_type": "stream",
     "text": [
      "Batch: 300, Training loss/acc: 0.09/0.97: 100%|██████████| 300/300 [01:12<00:00,  4.14batch/s]\n"
     ]
    },
    {
     "name": "stdout",
     "output_type": "stream",
     "text": [
      "Epoch: 23/200\n",
      "train loss: 0.0879276841878891 | val loss: 0.07115722447633743\n",
      "== Validation loss has an improvement, save model ==\n"
     ]
    },
    {
     "name": "stderr",
     "output_type": "stream",
     "text": [
      "\r",
      "Training batch:   0%|          | 0/300 [00:00<?, ?batch/s]"
     ]
    },
    {
     "name": "stdout",
     "output_type": "stream",
     "text": [
      "Model saved in path: /data/seanyu/UPMC_pathology/result/resnet50_RandomSplit_FromScratch/model.ckpt\n"
     ]
    },
    {
     "name": "stderr",
     "output_type": "stream",
     "text": [
      "Batch: 300, Training loss/acc: 0.09/0.97: 100%|██████████| 300/300 [01:12<00:00,  4.13batch/s]\n",
      "Training batch:   0%|          | 0/300 [00:00<?, ?batch/s]"
     ]
    },
    {
     "name": "stdout",
     "output_type": "stream",
     "text": [
      "Epoch: 24/200\n",
      "train loss: 0.08977432548999786 | val loss: 0.08394715934991837\n"
     ]
    },
    {
     "name": "stderr",
     "output_type": "stream",
     "text": [
      "Batch: 300, Training loss/acc: 0.08/0.97: 100%|██████████| 300/300 [01:12<00:00,  4.15batch/s]\n",
      "Training batch:   0%|          | 0/300 [00:00<?, ?batch/s]"
     ]
    },
    {
     "name": "stdout",
     "output_type": "stream",
     "text": [
      "Epoch: 25/200\n",
      "train loss: 0.08088977634906769 | val loss: 0.09056033194065094\n"
     ]
    },
    {
     "name": "stderr",
     "output_type": "stream",
     "text": [
      "Batch: 300, Training loss/acc: 0.08/0.97: 100%|██████████| 300/300 [01:12<00:00,  4.14batch/s]\n",
      "Training batch:   0%|          | 0/300 [00:00<?, ?batch/s]"
     ]
    },
    {
     "name": "stdout",
     "output_type": "stream",
     "text": [
      "Epoch: 26/200\n",
      "train loss: 0.0779694989323616 | val loss: 0.09104052931070328\n"
     ]
    },
    {
     "name": "stderr",
     "output_type": "stream",
     "text": [
      "Batch: 300, Training loss/acc: 0.08/0.97: 100%|██████████| 300/300 [01:12<00:00,  4.14batch/s]\n",
      "Training batch:   0%|          | 0/300 [00:00<?, ?batch/s]"
     ]
    },
    {
     "name": "stdout",
     "output_type": "stream",
     "text": [
      "Epoch: 27/200\n",
      "train loss: 0.08262035995721817 | val loss: 0.08686208724975586\n"
     ]
    },
    {
     "name": "stderr",
     "output_type": "stream",
     "text": [
      "Batch: 300, Training loss/acc: 0.08/0.97: 100%|██████████| 300/300 [01:12<00:00,  4.14batch/s]\n",
      "Training batch:   0%|          | 0/300 [00:00<?, ?batch/s]"
     ]
    },
    {
     "name": "stdout",
     "output_type": "stream",
     "text": [
      "Epoch: 28/200\n",
      "train loss: 0.0776970311999321 | val loss: 0.08331910520792007\n"
     ]
    },
    {
     "name": "stderr",
     "output_type": "stream",
     "text": [
      "Batch: 300, Training loss/acc: 0.08/0.97: 100%|██████████| 300/300 [01:12<00:00,  4.15batch/s]\n",
      "Training batch:   0%|          | 0/300 [00:00<?, ?batch/s]"
     ]
    },
    {
     "name": "stdout",
     "output_type": "stream",
     "text": [
      "Epoch: 29/200\n",
      "train loss: 0.07660140842199326 | val loss: 0.08892577886581421\n"
     ]
    },
    {
     "name": "stderr",
     "output_type": "stream",
     "text": [
      "Batch: 300, Training loss/acc: 0.07/0.97: 100%|██████████| 300/300 [01:12<00:00,  4.15batch/s]\n",
      "Training batch:   0%|          | 0/300 [00:00<?, ?batch/s]"
     ]
    },
    {
     "name": "stdout",
     "output_type": "stream",
     "text": [
      "Epoch: 30/200\n",
      "train loss: 0.071414515376091 | val loss: 0.09462300688028336\n"
     ]
    },
    {
     "name": "stderr",
     "output_type": "stream",
     "text": [
      "Batch: 300, Training loss/acc: 0.08/0.97: 100%|██████████| 300/300 [01:12<00:00,  4.15batch/s]\n",
      "Training batch:   0%|          | 0/300 [00:00<?, ?batch/s]"
     ]
    },
    {
     "name": "stdout",
     "output_type": "stream",
     "text": [
      "Epoch: 31/200\n",
      "train loss: 0.07548517733812332 | val loss: 0.0900728851556778\n"
     ]
    },
    {
     "name": "stderr",
     "output_type": "stream",
     "text": [
      "Batch: 300, Training loss/acc: 0.07/0.97: 100%|██████████| 300/300 [01:12<00:00,  4.13batch/s]\n"
     ]
    },
    {
     "name": "stdout",
     "output_type": "stream",
     "text": [
      "Epoch: 32/200\n",
      "train loss: 0.07142996788024902 | val loss: 0.09272553026676178\n",
      "Earlystop criteria met\n",
      "Stopping Thread 0\n",
      "Stopping Thread 1\n",
      "Stopping Thread 2\n",
      "Stopping Thread 3\n",
      "Stopping Thread 4\n",
      "Stopping Thread 5\n",
      "Stopping Thread 6\n",
      "Stopping Thread 7\n",
      "Stopping Thread 8\n",
      "End time: Tue Oct  2 14:53:46 2018\n",
      "Total elapse time: 00:40:40\n",
      "Stopping Thread 0\n",
      "Stopping Thread 1\n",
      "Stopping Thread 2\n",
      "Stopping Thread 3\n",
      "Stopping Thread 4\n",
      "Stopping Thread 5\n",
      "Stopping Thread 6\n",
      "Stopping Thread 7\n",
      "Stopping Thread 8\n",
      "End time: Tue Oct  2 14:53:55 2018\n",
      "Total elapse time: 00:40:49\n",
      "INFO:tensorflow:Restoring parameters from /data/seanyu/UPMC_pathology/result/resnet50_RandomSplit_FromScratch/model.ckpt\n"
     ]
    },
    {
     "name": "stderr",
     "output_type": "stream",
     "text": [
      "100%|██████████| 35/35 [00:03<00:00,  9.86it/s]\n"
     ]
    },
    {
     "name": "stdout",
     "output_type": "stream",
     "text": [
      "0.9762557077625571\n",
      "/data/seanyu/UPMC_pathology/result/resnet50_RandomSplit_FromScratch has already exist, overwrite it\n",
      "Write recording file to /data/seanyu/UPMC_pathology/result/resnet50_RandomSplit_FromScratch/msg.txt\n",
      "copying /home/seanyu/project/UPMC_mitosis/config.py to /data/seanyu/UPMC_pathology/result/resnet50_RandomSplit_FromScratch/config.py\n",
      "copying /home/seanyu/project/UPMC_mitosis/model.py to /data/seanyu/UPMC_pathology/result/resnet50_RandomSplit_FromScratch/model.py\n",
      "(1095, 256, 256, 3)\n",
      "== INITIALIZE PARAMETERS ==\n"
     ]
    },
    {
     "name": "stderr",
     "output_type": "stream",
     "text": [
      "\r",
      "Training batch:   0%|          | 0/300 [00:00<?, ?batch/s]"
     ]
    },
    {
     "name": "stdout",
     "output_type": "stream",
     "text": [
      "Start time: Tue Oct  2 14:54:17 2018\n"
     ]
    },
    {
     "name": "stderr",
     "output_type": "stream",
     "text": [
      "Batch: 300, Training loss/acc: 0.47/0.78: 100%|██████████| 300/300 [01:22<00:00,  3.65batch/s]\n"
     ]
    },
    {
     "name": "stdout",
     "output_type": "stream",
     "text": [
      "Epoch: 1/200\n",
      "train loss: 0.46721136569976807 | val loss: 0.2858225107192993\n",
      "== Validation loss has an improvement, save model ==\n"
     ]
    },
    {
     "name": "stderr",
     "output_type": "stream",
     "text": [
      "\r",
      "Training batch:   0%|          | 0/300 [00:00<?, ?batch/s]"
     ]
    },
    {
     "name": "stdout",
     "output_type": "stream",
     "text": [
      "Model saved in path: /data/seanyu/UPMC_pathology/result/resnet50_RandomSplit_FromScratch/model.ckpt\n"
     ]
    },
    {
     "name": "stderr",
     "output_type": "stream",
     "text": [
      "Batch: 300, Training loss/acc: 0.36/0.84: 100%|██████████| 300/300 [01:13<00:00,  4.10batch/s]\n",
      "Training batch:   0%|          | 0/300 [00:00<?, ?batch/s]"
     ]
    },
    {
     "name": "stdout",
     "output_type": "stream",
     "text": [
      "Epoch: 2/200\n",
      "train loss: 0.36351993680000305 | val loss: 0.3588837683200836\n"
     ]
    },
    {
     "name": "stderr",
     "output_type": "stream",
     "text": [
      "Batch: 300, Training loss/acc: 0.31/0.87: 100%|██████████| 300/300 [01:12<00:00,  4.12batch/s]\n"
     ]
    },
    {
     "name": "stdout",
     "output_type": "stream",
     "text": [
      "Epoch: 3/200\n",
      "train loss: 0.3146088421344757 | val loss: 0.2194102704524994\n",
      "== Validation loss has an improvement, save model ==\n"
     ]
    },
    {
     "name": "stderr",
     "output_type": "stream",
     "text": [
      "\r",
      "Training batch:   0%|          | 0/300 [00:00<?, ?batch/s]"
     ]
    },
    {
     "name": "stdout",
     "output_type": "stream",
     "text": [
      "Model saved in path: /data/seanyu/UPMC_pathology/result/resnet50_RandomSplit_FromScratch/model.ckpt\n"
     ]
    },
    {
     "name": "stderr",
     "output_type": "stream",
     "text": [
      "Batch: 300, Training loss/acc: 0.30/0.87: 100%|██████████| 300/300 [01:14<00:00,  4.04batch/s]\n",
      "Training batch:   0%|          | 0/300 [00:00<?, ?batch/s]"
     ]
    },
    {
     "name": "stdout",
     "output_type": "stream",
     "text": [
      "Epoch: 4/200\n",
      "train loss: 0.30484867095947266 | val loss: 0.31026366353034973\n"
     ]
    },
    {
     "name": "stderr",
     "output_type": "stream",
     "text": [
      "Batch: 300, Training loss/acc: 0.26/0.89: 100%|██████████| 300/300 [01:13<00:00,  4.10batch/s]\n"
     ]
    },
    {
     "name": "stdout",
     "output_type": "stream",
     "text": [
      "Epoch: 5/200\n",
      "train loss: 0.2602024972438812 | val loss: 0.18595588207244873\n",
      "== Validation loss has an improvement, save model ==\n"
     ]
    },
    {
     "name": "stderr",
     "output_type": "stream",
     "text": [
      "\r",
      "Training batch:   0%|          | 0/300 [00:00<?, ?batch/s]"
     ]
    },
    {
     "name": "stdout",
     "output_type": "stream",
     "text": [
      "Model saved in path: /data/seanyu/UPMC_pathology/result/resnet50_RandomSplit_FromScratch/model.ckpt\n"
     ]
    },
    {
     "name": "stderr",
     "output_type": "stream",
     "text": [
      "Batch: 300, Training loss/acc: 0.25/0.90: 100%|██████████| 300/300 [01:12<00:00,  4.14batch/s]\n",
      "Training batch:   0%|          | 0/300 [00:00<?, ?batch/s]"
     ]
    },
    {
     "name": "stdout",
     "output_type": "stream",
     "text": [
      "Epoch: 6/200\n",
      "train loss: 0.2495337873697281 | val loss: 0.32631590962409973\n"
     ]
    },
    {
     "name": "stderr",
     "output_type": "stream",
     "text": [
      "Batch: 300, Training loss/acc: 0.23/0.90: 100%|██████████| 300/300 [01:12<00:00,  4.15batch/s]\n"
     ]
    },
    {
     "name": "stdout",
     "output_type": "stream",
     "text": [
      "Epoch: 7/200\n",
      "train loss: 0.23091845214366913 | val loss: 0.14462542533874512\n",
      "== Validation loss has an improvement, save model ==\n"
     ]
    },
    {
     "name": "stderr",
     "output_type": "stream",
     "text": [
      "\r",
      "Training batch:   0%|          | 0/300 [00:00<?, ?batch/s]"
     ]
    },
    {
     "name": "stdout",
     "output_type": "stream",
     "text": [
      "Model saved in path: /data/seanyu/UPMC_pathology/result/resnet50_RandomSplit_FromScratch/model.ckpt\n"
     ]
    },
    {
     "name": "stderr",
     "output_type": "stream",
     "text": [
      "Batch: 300, Training loss/acc: 0.20/0.92: 100%|██████████| 300/300 [01:12<00:00,  4.14batch/s]\n"
     ]
    },
    {
     "name": "stdout",
     "output_type": "stream",
     "text": [
      "Epoch: 8/200\n",
      "train loss: 0.20030051469802856 | val loss: 0.13988249003887177\n",
      "== Validation loss has an improvement, save model ==\n"
     ]
    },
    {
     "name": "stderr",
     "output_type": "stream",
     "text": [
      "\r",
      "Training batch:   0%|          | 0/300 [00:00<?, ?batch/s]"
     ]
    },
    {
     "name": "stdout",
     "output_type": "stream",
     "text": [
      "Model saved in path: /data/seanyu/UPMC_pathology/result/resnet50_RandomSplit_FromScratch/model.ckpt\n"
     ]
    },
    {
     "name": "stderr",
     "output_type": "stream",
     "text": [
      "Batch: 300, Training loss/acc: 0.18/0.93: 100%|██████████| 300/300 [01:13<00:00,  4.10batch/s]\n",
      "Training batch:   0%|          | 0/300 [00:00<?, ?batch/s]"
     ]
    },
    {
     "name": "stdout",
     "output_type": "stream",
     "text": [
      "Epoch: 9/200\n",
      "train loss: 0.18492309749126434 | val loss: 0.15405593812465668\n"
     ]
    },
    {
     "name": "stderr",
     "output_type": "stream",
     "text": [
      "Batch: 300, Training loss/acc: 0.15/0.94: 100%|██████████| 300/300 [01:12<00:00,  4.13batch/s]\n"
     ]
    },
    {
     "name": "stdout",
     "output_type": "stream",
     "text": [
      "Epoch: 10/200\n",
      "train loss: 0.14828135073184967 | val loss: 0.13207469880580902\n",
      "== Validation loss has an improvement, save model ==\n"
     ]
    },
    {
     "name": "stderr",
     "output_type": "stream",
     "text": [
      "\r",
      "Training batch:   0%|          | 0/300 [00:00<?, ?batch/s]"
     ]
    },
    {
     "name": "stdout",
     "output_type": "stream",
     "text": [
      "Model saved in path: /data/seanyu/UPMC_pathology/result/resnet50_RandomSplit_FromScratch/model.ckpt\n"
     ]
    },
    {
     "name": "stderr",
     "output_type": "stream",
     "text": [
      "Batch: 300, Training loss/acc: 0.14/0.94: 100%|██████████| 300/300 [01:12<00:00,  4.13batch/s]\n"
     ]
    },
    {
     "name": "stdout",
     "output_type": "stream",
     "text": [
      "Epoch: 11/200\n",
      "train loss: 0.14275577664375305 | val loss: 0.1141570657491684\n",
      "== Validation loss has an improvement, save model ==\n"
     ]
    },
    {
     "name": "stderr",
     "output_type": "stream",
     "text": [
      "\r",
      "Training batch:   0%|          | 0/300 [00:00<?, ?batch/s]"
     ]
    },
    {
     "name": "stdout",
     "output_type": "stream",
     "text": [
      "Model saved in path: /data/seanyu/UPMC_pathology/result/resnet50_RandomSplit_FromScratch/model.ckpt\n"
     ]
    },
    {
     "name": "stderr",
     "output_type": "stream",
     "text": [
      "Batch: 300, Training loss/acc: 0.13/0.95: 100%|██████████| 300/300 [01:12<00:00,  4.14batch/s]\n",
      "Training batch:   0%|          | 0/300 [00:00<?, ?batch/s]"
     ]
    },
    {
     "name": "stdout",
     "output_type": "stream",
     "text": [
      "Epoch: 12/200\n",
      "train loss: 0.1289256513118744 | val loss: 0.14267674088478088\n"
     ]
    },
    {
     "name": "stderr",
     "output_type": "stream",
     "text": [
      "Batch: 300, Training loss/acc: 0.13/0.95: 100%|██████████| 300/300 [01:12<00:00,  4.14batch/s]\n",
      "Training batch:   0%|          | 0/300 [00:00<?, ?batch/s]"
     ]
    },
    {
     "name": "stdout",
     "output_type": "stream",
     "text": [
      "Epoch: 13/200\n",
      "train loss: 0.12629325687885284 | val loss: 0.15777747333049774\n"
     ]
    },
    {
     "name": "stderr",
     "output_type": "stream",
     "text": [
      "Batch: 300, Training loss/acc: 0.12/0.96: 100%|██████████| 300/300 [01:12<00:00,  4.13batch/s]\n"
     ]
    },
    {
     "name": "stdout",
     "output_type": "stream",
     "text": [
      "Epoch: 14/200\n",
      "train loss: 0.12018084526062012 | val loss: 0.1032412201166153\n",
      "== Validation loss has an improvement, save model ==\n"
     ]
    },
    {
     "name": "stderr",
     "output_type": "stream",
     "text": [
      "\r",
      "Training batch:   0%|          | 0/300 [00:00<?, ?batch/s]"
     ]
    },
    {
     "name": "stdout",
     "output_type": "stream",
     "text": [
      "Model saved in path: /data/seanyu/UPMC_pathology/result/resnet50_RandomSplit_FromScratch/model.ckpt\n"
     ]
    },
    {
     "name": "stderr",
     "output_type": "stream",
     "text": [
      "Batch: 300, Training loss/acc: 0.12/0.95: 100%|██████████| 300/300 [01:12<00:00,  4.14batch/s]\n",
      "Training batch:   0%|          | 0/300 [00:00<?, ?batch/s]"
     ]
    },
    {
     "name": "stdout",
     "output_type": "stream",
     "text": [
      "Epoch: 15/200\n",
      "train loss: 0.12416708469390869 | val loss: 0.2037220150232315\n"
     ]
    },
    {
     "name": "stderr",
     "output_type": "stream",
     "text": [
      "Batch: 300, Training loss/acc: 0.12/0.95: 100%|██████████| 300/300 [01:12<00:00,  4.13batch/s]\n",
      "Training batch:   0%|          | 0/300 [00:00<?, ?batch/s]"
     ]
    },
    {
     "name": "stdout",
     "output_type": "stream",
     "text": [
      "Epoch: 16/200\n",
      "train loss: 0.11928586661815643 | val loss: 0.13955488801002502\n"
     ]
    },
    {
     "name": "stderr",
     "output_type": "stream",
     "text": [
      "Batch: 300, Training loss/acc: 0.10/0.96: 100%|██████████| 300/300 [01:12<00:00,  4.13batch/s]\n"
     ]
    },
    {
     "name": "stdout",
     "output_type": "stream",
     "text": [
      "Epoch: 17/200\n",
      "train loss: 0.10451040416955948 | val loss: 0.08731403201818466\n",
      "== Validation loss has an improvement, save model ==\n"
     ]
    },
    {
     "name": "stderr",
     "output_type": "stream",
     "text": [
      "\r",
      "Training batch:   0%|          | 0/300 [00:00<?, ?batch/s]"
     ]
    },
    {
     "name": "stdout",
     "output_type": "stream",
     "text": [
      "Model saved in path: /data/seanyu/UPMC_pathology/result/resnet50_RandomSplit_FromScratch/model.ckpt\n"
     ]
    },
    {
     "name": "stderr",
     "output_type": "stream",
     "text": [
      "Batch: 300, Training loss/acc: 0.09/0.97: 100%|██████████| 300/300 [01:12<00:00,  4.14batch/s]\n",
      "Training batch:   0%|          | 0/300 [00:00<?, ?batch/s]"
     ]
    },
    {
     "name": "stdout",
     "output_type": "stream",
     "text": [
      "Epoch: 18/200\n",
      "train loss: 0.092379629611969 | val loss: 0.19882522523403168\n"
     ]
    },
    {
     "name": "stderr",
     "output_type": "stream",
     "text": [
      "Batch: 300, Training loss/acc: 0.09/0.97: 100%|██████████| 300/300 [01:13<00:00,  4.09batch/s]\n",
      "Training batch:   0%|          | 0/300 [00:00<?, ?batch/s]"
     ]
    },
    {
     "name": "stdout",
     "output_type": "stream",
     "text": [
      "Epoch: 19/200\n",
      "train loss: 0.09154324978590012 | val loss: 0.09560437500476837\n"
     ]
    },
    {
     "name": "stderr",
     "output_type": "stream",
     "text": [
      "Batch: 300, Training loss/acc: 0.10/0.97: 100%|██████████| 300/300 [01:12<00:00,  4.13batch/s]\n"
     ]
    },
    {
     "name": "stdout",
     "output_type": "stream",
     "text": [
      "Epoch: 20/200\n",
      "train loss: 0.0965692400932312 | val loss: 0.08349058032035828\n",
      "== Validation loss has an improvement, save model ==\n"
     ]
    },
    {
     "name": "stderr",
     "output_type": "stream",
     "text": [
      "\r",
      "Training batch:   0%|          | 0/300 [00:00<?, ?batch/s]"
     ]
    },
    {
     "name": "stdout",
     "output_type": "stream",
     "text": [
      "Model saved in path: /data/seanyu/UPMC_pathology/result/resnet50_RandomSplit_FromScratch/model.ckpt\n"
     ]
    },
    {
     "name": "stderr",
     "output_type": "stream",
     "text": [
      "Batch: 300, Training loss/acc: 0.09/0.97: 100%|██████████| 300/300 [01:12<00:00,  4.14batch/s]\n",
      "Training batch:   0%|          | 0/300 [00:00<?, ?batch/s]"
     ]
    },
    {
     "name": "stdout",
     "output_type": "stream",
     "text": [
      "Epoch: 21/200\n",
      "train loss: 0.09022331237792969 | val loss: 0.10264304280281067\n"
     ]
    },
    {
     "name": "stderr",
     "output_type": "stream",
     "text": [
      "Batch: 300, Training loss/acc: 0.08/0.97: 100%|██████████| 300/300 [01:12<00:00,  4.14batch/s]\n",
      "Training batch:   0%|          | 0/300 [00:00<?, ?batch/s]"
     ]
    },
    {
     "name": "stdout",
     "output_type": "stream",
     "text": [
      "Epoch: 22/200\n",
      "train loss: 0.08433704078197479 | val loss: 0.08875557035207748\n"
     ]
    },
    {
     "name": "stderr",
     "output_type": "stream",
     "text": [
      "Batch: 300, Training loss/acc: 0.08/0.97: 100%|██████████| 300/300 [01:12<00:00,  4.13batch/s]\n",
      "Training batch:   0%|          | 0/300 [00:00<?, ?batch/s]"
     ]
    },
    {
     "name": "stdout",
     "output_type": "stream",
     "text": [
      "Epoch: 23/200\n",
      "train loss: 0.07782576233148575 | val loss: 0.1116115003824234\n"
     ]
    },
    {
     "name": "stderr",
     "output_type": "stream",
     "text": [
      "Batch: 300, Training loss/acc: 0.07/0.97: 100%|██████████| 300/300 [01:12<00:00,  4.14batch/s]\n",
      "Training batch:   0%|          | 0/300 [00:00<?, ?batch/s]"
     ]
    },
    {
     "name": "stdout",
     "output_type": "stream",
     "text": [
      "Epoch: 24/200\n",
      "train loss: 0.07484107464551926 | val loss: 0.11397381871938705\n"
     ]
    },
    {
     "name": "stderr",
     "output_type": "stream",
     "text": [
      "Batch: 300, Training loss/acc: 0.07/0.97: 100%|██████████| 300/300 [01:12<00:00,  4.11batch/s]\n",
      "Training batch:   0%|          | 0/300 [00:00<?, ?batch/s]"
     ]
    },
    {
     "name": "stdout",
     "output_type": "stream",
     "text": [
      "Epoch: 25/200\n",
      "train loss: 0.07085564732551575 | val loss: 0.10582565516233444\n"
     ]
    },
    {
     "name": "stderr",
     "output_type": "stream",
     "text": [
      "Batch: 300, Training loss/acc: 0.07/0.97: 100%|██████████| 300/300 [01:12<00:00,  4.13batch/s]\n",
      "Training batch:   0%|          | 0/300 [00:00<?, ?batch/s]"
     ]
    },
    {
     "name": "stdout",
     "output_type": "stream",
     "text": [
      "Epoch: 26/200\n",
      "train loss: 0.07256145775318146 | val loss: 0.10151712596416473\n"
     ]
    },
    {
     "name": "stderr",
     "output_type": "stream",
     "text": [
      "Batch: 300, Training loss/acc: 0.07/0.97: 100%|██████████| 300/300 [01:12<00:00,  4.13batch/s]\n",
      "Training batch:   0%|          | 0/300 [00:00<?, ?batch/s]"
     ]
    },
    {
     "name": "stdout",
     "output_type": "stream",
     "text": [
      "Epoch: 27/200\n",
      "train loss: 0.07290435582399368 | val loss: 0.09851817786693573\n"
     ]
    },
    {
     "name": "stderr",
     "output_type": "stream",
     "text": [
      "Batch: 300, Training loss/acc: 0.07/0.98: 100%|██████████| 300/300 [01:12<00:00,  4.13batch/s]\n",
      "Training batch:   0%|          | 0/300 [00:00<?, ?batch/s]"
     ]
    },
    {
     "name": "stdout",
     "output_type": "stream",
     "text": [
      "Epoch: 28/200\n",
      "train loss: 0.0669437050819397 | val loss: 0.10697543621063232\n"
     ]
    },
    {
     "name": "stderr",
     "output_type": "stream",
     "text": [
      "Batch: 300, Training loss/acc: 0.06/0.98: 100%|██████████| 300/300 [01:12<00:00,  4.14batch/s]\n"
     ]
    },
    {
     "name": "stdout",
     "output_type": "stream",
     "text": [
      "Epoch: 29/200\n",
      "train loss: 0.06184804439544678 | val loss: 0.11308847367763519\n",
      "Earlystop criteria met\n",
      "Stopping Thread 0\n",
      "Stopping Thread 1\n",
      "Stopping Thread 2\n",
      "Stopping Thread 3\n",
      "Stopping Thread 4\n",
      "Stopping Thread 5\n",
      "Stopping Thread 6\n",
      "Stopping Thread 7\n",
      "Stopping Thread 8\n",
      "End time: Tue Oct  2 15:31:25 2018\n",
      "Total elapse time: 00:37:07\n",
      "Stopping Thread 0\n",
      "Stopping Thread 1\n",
      "Stopping Thread 2\n",
      "Stopping Thread 3\n",
      "Stopping Thread 4\n",
      "Stopping Thread 5\n",
      "Stopping Thread 6\n",
      "Stopping Thread 7\n",
      "Stopping Thread 8\n",
      "End time: Tue Oct  2 15:31:34 2018\n",
      "Total elapse time: 00:37:16\n",
      "INFO:tensorflow:Restoring parameters from /data/seanyu/UPMC_pathology/result/resnet50_RandomSplit_FromScratch/model.ckpt\n"
     ]
    },
    {
     "name": "stderr",
     "output_type": "stream",
     "text": [
      "100%|██████████| 35/35 [00:03<00:00,  9.92it/s]\n"
     ]
    },
    {
     "name": "stdout",
     "output_type": "stream",
     "text": [
      "0.9662100456621004\n"
     ]
    }
   ],
   "source": [
    "for i in range(5):\n",
    "    tf.reset_default_graph()\n",
    "    FLAGS.split_id = str(i)\n",
    "    recording_manager = Experiment_Recoding(Basic_Setup.result_dir, message=FLAGS.message)\n",
    "    start_time = time.time()\n",
    "    df = pd.DataFrame()\n",
    "    for root_path, middle_path, target_file in os.walk(Basic_Setup.label_dir):\n",
    "        if len(target_file) == 0:\n",
    "            pass\n",
    "        else:\n",
    "            for sub_file in target_file:\n",
    "                full_name = os.path.join(root_path, sub_file)\n",
    "                tmp_files = pd.read_csv(full_name, header=None)\n",
    "                df = pd.concat((df, tmp_files), axis = 0)\n",
    "    df.columns = [\"pid\",\"cate\"]\n",
    "    df.drop_duplicates(inplace=True)\n",
    "    df['img_path'] = df['pid'].apply(lambda x: os.path.join(Basic_Setup.data_dir, 'image' + str (x) + \".png\"))\n",
    "    training_files, validation_files = train_test_split(df, test_size = 0.1, stratify =df.cate.values.astype('int')) # around 1:10\n",
    "\n",
    "    train_0 = training_files[training_files['cate'] == 0]\n",
    "    train_1 = training_files[training_files['cate'] == 1]\n",
    "    train_0.reset_index(drop=True, inplace=True)\n",
    "    train_1.reset_index(drop=True, inplace=True)\n",
    "\n",
    "    data_gen = Create_Data_Generator(df = [train_0, train_1],\n",
    "                                     image_size=Hparams.input_size,\n",
    "                                     batch_size=Hparams.batch_size, n_classes=Hparams.n_class,\n",
    "                                     nd_inputs_preprocessing_handler=PRETRAIN_MODEL_SETUP.CORRESPONDING_PREPROC[Hparams.pretrain_model],\n",
    "                                     do_augment=Basic_Setup.do_augmentation, aug_params=Augmentation_Setup.augmentation\n",
    "                                    )\n",
    "\n",
    "    data_gen.start_train_threads(jobs=Basic_Setup.n_threads, dq_size=Basic_Setup.dq_size)\n",
    "    train_gen = data_gen.get_data()\n",
    "    x_val, y_val = data_gen.get_evaluate_data(validation_files)\n",
    "    print(x_val.shape)\n",
    "\n",
    "    cb_dict = {\n",
    "        'reduce_lr' : ReduceLROnPlateau(lr=Hparams.reduce_lr_options['lr'], \n",
    "                                        factor=Hparams.reduce_lr_options['factor'], \n",
    "                                        patience=Hparams.reduce_lr_options['patience']),\n",
    "        'earlystop' : EarlyStopping(min_delta = Hparams.earlystop_options['min_delta'], \n",
    "                                    patience= Hparams.earlystop_options['patience']),\n",
    "        'checkpoint' : Model_checkpoint(model_name=Basic_Setup.result_dir + '/' +  Basic_Setup.model_saving_name, \n",
    "                                        save_best_only=True),\n",
    "        'model_timer': Model_Timer(),\n",
    "    }\n",
    "\n",
    "    callback_dict = {\n",
    "        'on_session_begin':[cb_dict['model_timer']], # start of a session\n",
    "        'on_batch_begin':[], # start of a training batch\n",
    "        'on_batch_end':[], # end of a training batch\n",
    "        'on_epoch_begin':[], # start of a epoch\n",
    "        'on_epoch_end':[cb_dict['earlystop'], \n",
    "                        cb_dict['reduce_lr'],\n",
    "                        cb_dict['checkpoint']], # end of a epoch\n",
    "        'on_session_end':[cb_dict['model_timer']] # end of a session\n",
    "        }\n",
    "    callback_manager = Run_collected_functions(callback_dict)\n",
    "\n",
    "    model_ops, metric_history = create_model(Hparams)\n",
    "    trainer = model_trainer(hflags=Hparams, # hyper-parameters\n",
    "                            data_gen=data_gen, # data generator, for get infos\n",
    "                            data_gen_get_data = train_gen, # for yield patches\n",
    "                            model_ops=model_ops, # model graph\n",
    "                            metric_history=metric_history, # metric recording\n",
    "                            callback_manager=callback_manager # runable callbacks\n",
    "                            )\n",
    "    trainer.initalize()\n",
    "    if FLAGS.with_transfer:\n",
    "        pretrain_ckpt = PRETRAIN_MODEL_SETUP.PRETRAIN_DICT[Hparams.pretrain_model]\n",
    "        trainer.restore(model_to_restore=pretrain_ckpt, partial_restore=True)\n",
    "    trainer.do_training(cb_dict=cb_dict, validation_set=(x_val, y_val))\n",
    "\n",
    "    val_pred = trainer.predict(x_= x_val, \n",
    "                               model_to_restore=os.path.join(Basic_Setup.result_dir, Basic_Setup.model_saving_name) + '.ckpt', \n",
    "                               bz=Hparams.batch_size)\n",
    "\n",
    "    val_pred = np.concatenate([item for sublist in val_pred for item in sublist])\n",
    "    acc = np.sum(val_pred.argmax(axis = 1) == y_val.argmax(axis = 1)) / len(y_val)\n",
    "    print(acc)\n",
    "\n",
    "    validation_files['y_pred'] = val_pred[:,1]\n",
    "\n",
    "    if not FLAGS.full_random:\n",
    "        output_df_name = os.path.join(Basic_Setup.result_dir, 'result_sp' + str(FLAGS.split_id) + '.csv')\n",
    "        history_file_name = os.path.join(Basic_Setup.result_dir, 'log_sp' + str(FLAGS.split_id) + '.csv')\n",
    "    else:\n",
    "        output_df_name = os.path.join(Basic_Setup.result_dir, 'result_randomsp' + str(FLAGS.split_id) + '.csv')\n",
    "        history_file_name = os.path.join(Basic_Setup.result_dir, 'log_randomsp' + str(FLAGS.split_id) + '.csv')\n",
    "\n",
    "    validation_files.to_csv(path_or_buf=output_df_name, index=False)\n",
    "\n",
    "    #recording_manager.write_new_msg('Validation Performance Accuracy: %.3f' % (acc) )\n",
    "\n",
    "    history_logs = pd.DataFrame({'train_accuracy': trainer.metric_history['accuracy']['train'],\n",
    "                                 'valid_accuracy': trainer.metric_history['accuracy']['valid']})\n",
    "\n",
    "    history_logs.to_csv(history_file_name, index=False)"
   ]
  },
  {
   "cell_type": "code",
   "execution_count": null,
   "metadata": {},
   "outputs": [],
   "source": []
  }
 ],
 "metadata": {
  "kernelspec": {
   "display_name": "Python 3",
   "language": "python",
   "name": "python3"
  },
  "language_info": {
   "codemirror_mode": {
    "name": "ipython",
    "version": 3
   },
   "file_extension": ".py",
   "mimetype": "text/x-python",
   "name": "python",
   "nbconvert_exporter": "python",
   "pygments_lexer": "ipython3",
   "version": "3.6.5"
  }
 },
 "nbformat": 4,
 "nbformat_minor": 2
}
